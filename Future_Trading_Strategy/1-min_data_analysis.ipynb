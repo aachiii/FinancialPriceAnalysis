{
  "nbformat": 4,
  "nbformat_minor": 0,
  "metadata": {
    "colab": {
      "name": "5360 hw2.ipynb",
      "provenance": [],
      "collapsed_sections": [],
      "toc_visible": true,
      "machine_shape": "hm"
    },
    "kernelspec": {
      "name": "python3",
      "display_name": "Python 3"
    },
    "accelerator": "GPU"
  },
  "cells": [
    {
      "cell_type": "code",
      "metadata": {
        "id": "5mvbWMRg86f6",
        "colab_type": "code",
        "colab": {}
      },
      "source": [
        "from astropy.io import ascii\n",
        "import numpy as np \n",
        "import pandas as pd \n",
        "from __future__ import division\n",
        "import time\n",
        "import matplotlib.pyplot as plt\n",
        "import scipy.stats as stats\n",
        "import math"
      ],
      "execution_count": null,
      "outputs": []
    },
    {
      "cell_type": "code",
      "metadata": {
        "id": "ztadyCA3fCwf",
        "colab_type": "code",
        "colab": {
          "base_uri": "https://localhost:8080/",
          "height": 204
        },
        "outputId": "88b0f9f3-54b9-4db4-f10f-63b5325b4c14"
      },
      "source": [
        "es=pd.read_csv(\"FT-1min.asc\")\n",
        "es.head()"
      ],
      "execution_count": null,
      "outputs": [
        {
          "output_type": "execute_result",
          "data": {
            "text/html": [
              "<div>\n",
              "<style scoped>\n",
              "    .dataframe tbody tr th:only-of-type {\n",
              "        vertical-align: middle;\n",
              "    }\n",
              "\n",
              "    .dataframe tbody tr th {\n",
              "        vertical-align: top;\n",
              "    }\n",
              "\n",
              "    .dataframe thead th {\n",
              "        text-align: right;\n",
              "    }\n",
              "</style>\n",
              "<table border=\"1\" class=\"dataframe\">\n",
              "  <thead>\n",
              "    <tr style=\"text-align: right;\">\n",
              "      <th></th>\n",
              "      <th>Date</th>\n",
              "      <th>Time</th>\n",
              "      <th>Open</th>\n",
              "      <th>High</th>\n",
              "      <th>Low</th>\n",
              "      <th>Close</th>\n",
              "      <th>Volume</th>\n",
              "    </tr>\n",
              "  </thead>\n",
              "  <tbody>\n",
              "    <tr>\n",
              "      <th>0</th>\n",
              "      <td>07/01/98</td>\n",
              "      <td>08:36</td>\n",
              "      <td>6568.0</td>\n",
              "      <td>6580.0</td>\n",
              "      <td>6568.0</td>\n",
              "      <td>6578.0</td>\n",
              "      <td>0</td>\n",
              "    </tr>\n",
              "    <tr>\n",
              "      <th>1</th>\n",
              "      <td>07/01/98</td>\n",
              "      <td>08:37</td>\n",
              "      <td>6580.0</td>\n",
              "      <td>6598.0</td>\n",
              "      <td>6580.0</td>\n",
              "      <td>6595.0</td>\n",
              "      <td>0</td>\n",
              "    </tr>\n",
              "    <tr>\n",
              "      <th>2</th>\n",
              "      <td>07/01/98</td>\n",
              "      <td>08:38</td>\n",
              "      <td>6598.0</td>\n",
              "      <td>6600.0</td>\n",
              "      <td>6592.0</td>\n",
              "      <td>6600.0</td>\n",
              "      <td>0</td>\n",
              "    </tr>\n",
              "    <tr>\n",
              "      <th>3</th>\n",
              "      <td>07/01/98</td>\n",
              "      <td>08:39</td>\n",
              "      <td>6602.0</td>\n",
              "      <td>6611.0</td>\n",
              "      <td>6602.0</td>\n",
              "      <td>6605.0</td>\n",
              "      <td>0</td>\n",
              "    </tr>\n",
              "    <tr>\n",
              "      <th>4</th>\n",
              "      <td>07/01/98</td>\n",
              "      <td>08:40</td>\n",
              "      <td>6604.0</td>\n",
              "      <td>6604.0</td>\n",
              "      <td>6598.0</td>\n",
              "      <td>6598.0</td>\n",
              "      <td>0</td>\n",
              "    </tr>\n",
              "  </tbody>\n",
              "</table>\n",
              "</div>"
            ],
            "text/plain": [
              "       Date   Time    Open    High     Low   Close  Volume\n",
              "0  07/01/98  08:36  6568.0  6580.0  6568.0  6578.0       0\n",
              "1  07/01/98  08:37  6580.0  6598.0  6580.0  6595.0       0\n",
              "2  07/01/98  08:38  6598.0  6600.0  6592.0  6600.0       0\n",
              "3  07/01/98  08:39  6602.0  6611.0  6602.0  6605.0       0\n",
              "4  07/01/98  08:40  6604.0  6604.0  6598.0  6598.0       0"
            ]
          },
          "metadata": {
            "tags": []
          },
          "execution_count": 236
        }
      ]
    },
    {
      "cell_type": "code",
      "metadata": {
        "id": "I8tGYhAJfHsb",
        "colab_type": "code",
        "colab": {}
      },
      "source": [
        "close=es['Close']\n",
        "time=es.loc[:,['Time']]"
      ],
      "execution_count": null,
      "outputs": []
    },
    {
      "cell_type": "code",
      "metadata": {
        "id": "HGh7Uag5fM5z",
        "colab_type": "code",
        "colab": {}
      },
      "source": [
        "close_1= close.to_numpy()[:400001]"
      ],
      "execution_count": null,
      "outputs": []
    },
    {
      "cell_type": "code",
      "metadata": {
        "id": "lQnZ68SzgE4t",
        "colab_type": "code",
        "colab": {
          "base_uri": "https://localhost:8080/",
          "height": 34
        },
        "outputId": "99cd3a53-1dcc-45bc-834c-e8d5f593b820"
      },
      "source": [
        "close_1"
      ],
      "execution_count": null,
      "outputs": [
        {
          "output_type": "execute_result",
          "data": {
            "text/plain": [
              "array([6578., 6595., 6600., ..., 5978., 5982., 5982.])"
            ]
          },
          "metadata": {
            "tags": []
          },
          "execution_count": 239
        }
      ]
    },
    {
      "cell_type": "code",
      "metadata": {
        "id": "R5X9wtQHgA7U",
        "colab_type": "code",
        "colab": {}
      },
      "source": [
        "def getdiff(arr, tao):\n",
        "    r=np.array([])\n",
        "    first_index = tao\n",
        "    for i in range(len(arr)-tao):\n",
        "        r = np.append(r, arr[i+first_index] - arr[i+first_index-tao])\n",
        "        if i%20000 == 0:\n",
        "            print(i)\n",
        "    return r"
      ],
      "execution_count": null,
      "outputs": []
    },
    {
      "cell_type": "code",
      "metadata": {
        "id": "C8dXnwb0hdgQ",
        "colab_type": "code",
        "colab": {}
      },
      "source": [
        "def diff_tao(close1):    \n",
        "    r_1 = getdiff(close1, 1)\n",
        "    r_2 = getdiff(close1, 5)\n",
        "    r_3 = getdiff(close1, 30)\n",
        "    r_4 = getdiff(close1, 60)\n",
        "    r_5 = getdiff(close1, 120)\n",
        "    r_6 = getdiff(close1, 180)\n",
        "    r_7 = getdiff(close1, 360)\n",
        "    return r_1, r_2, r_3, r_4, r_5, r_6, r_7\n"
      ],
      "execution_count": null,
      "outputs": []
    },
    {
      "cell_type": "code",
      "metadata": {
        "id": "a1WCBJAcyVvx",
        "colab_type": "code",
        "colab": {}
      },
      "source": [
        "r_1, r_2, r_3, r_4, r_5, r_6, r_7 = diff_tao(close_1)"
      ],
      "execution_count": null,
      "outputs": []
    },
    {
      "cell_type": "code",
      "metadata": {
        "id": "OisFwn5nyXRS",
        "colab_type": "code",
        "colab": {}
      },
      "source": [
        "def plotr(r2, tao):    \n",
        "    bins = np.linspace(-9, 9, 20)\n",
        "    histogram, bins = np.histogram(r2, bins=bins, density=True)\n",
        "\n",
        "    bin_centers = 0.5*(bins[1:] + bins[:-1])\n",
        "    pdf = stats.norm.pdf(bin_centers)\n",
        "    plt.figure(figsize=(6, 4))\n",
        "    # plt.hist(bin_centers, histogram, label=\"Histogram of samples\")\n",
        "    plt.hist(r2, bins,log=True,density=True, label=\"Histogram\", color = 'grey') \n",
        "    plt.plot(bin_centers, pdf, label=\"PDF\",color = 'r', )\n",
        "    plt.legend()\n",
        "    plt.title(\"log-lin plot(FT-1min), tao = {}\".format(tao))\n",
        "    plt.ylim((0.001,1))\n",
        "    plt.show()"
      ],
      "execution_count": null,
      "outputs": []
    },
    {
      "cell_type": "code",
      "metadata": {
        "id": "ZMQQ9haT7DU2",
        "colab_type": "code",
        "colab": {}
      },
      "source": [
        "def plotall(r_1, r_2, r_3, r_4, r_5, r_6, r_7):\n",
        "    plotr(r_1, 1)\n",
        "    plotr(r_2, 5)\n",
        "    plotr(r_3, 30)\n",
        "    plotr(r_4, 60)\n",
        "    plotr(r_5, 120)\n",
        "    plotr(r_6, 180)\n",
        "    plotr(r_7, 360)"
      ],
      "execution_count": null,
      "outputs": []
    },
    {
      "cell_type": "code",
      "metadata": {
        "id": "ONUL3ghT-sDj",
        "colab_type": "code",
        "colab": {
          "base_uri": "https://localhost:8080/",
          "height": 1865
        },
        "outputId": "ae5aa1a9-93b2-4c5c-87e5-c035abce0eba"
      },
      "source": [
        "plotall(r_1, r_2, r_3, r_4, r_5, r_6, r_7)"
      ],
      "execution_count": null,
      "outputs": [
        {
          "output_type": "display_data",
          "data": {
            "image/png": "[encoded data removed]",
            "text/plain": [
              "<Figure size 432x288 with 1 Axes>"
            ]
          },
          "metadata": {
            "tags": []
          }
        },
        {
          "output_type": "display_data",
          "data": {
            "image/png": "[encoded data removed]",
            "text/plain": [
              "<Figure size 432x288 with 1 Axes>"
            ]
          },
          "metadata": {
            "tags": []
          }
        },
        {
          "output_type": "display_data",
          "data": {
            "image/png": "[encoded data removed]",
            "text/plain": [
              "<Figure size 432x288 with 1 Axes>"
            ]
          },
          "metadata": {
            "tags": []
          }
        },
        {
          "output_type": "display_data",
          "data": {
            "image/png": "[encoded data removed]",
            "text/plain": [
              "<Figure size 432x288 with 1 Axes>"
            ]
          },
          "metadata": {
            "tags": []
          }
        },
        {
          "output_type": "display_data",
          "data": {
            "image/png": "[encoded data removed]",
            "text/plain": [
              "<Figure size 432x288 with 1 Axes>"
            ]
          },
          "metadata": {
            "tags": []
          }
        },
        {
          "output_type": "display_data",
          "data": {
            "image/png": "[encoded data removed]",
            "text/plain": [
              "<Figure size 432x288 with 1 Axes>"
            ]
          },
          "metadata": {
            "tags": []
          }
        },
        {
          "output_type": "display_data",
          "data": {
            "image/png": "[encoded data removed]",
            "text/plain": [
              "<Figure size 432x288 with 1 Axes>"
            ]
          },
          "metadata": {
            "tags": []
          }
        }
      ]
    },
    {
      "cell_type": "code",
      "metadata": {
        "id": "OFfg38i1EK-p",
        "colab_type": "code",
        "colab": {}
      },
      "source": [
        "def alpha(r2):\n",
        "    bins = np.linspace(-4, 4, 60)\n",
        "    histogram, bins = np.histogram(r2, bins=bins, density=True)\n",
        "\n",
        "    bin_centers = 0.5*(bins[1:] + bins[:-1])\n",
        "    pdf = stats.norm.pdf(bin_centers)\n",
        "    print(pdf)"
      ],
      "execution_count": null,
      "outputs": []
    },
    {
      "cell_type": "code",
      "metadata": {
        "id": "8j49c4xRI-N1",
        "colab_type": "code",
        "colab": {
          "base_uri": "https://localhost:8080/",
          "height": 272
        },
        "outputId": "fa58631b-37f4-4d7d-a3f7-47e2602b7d02"
      },
      "source": [
        "alpha(r_1)"
      ],
      "execution_count": null,
      "outputs": [
        {
          "output_type": "stream",
          "text": [
            "[1.75118043e-04 2.95730225e-04 4.90315702e-04 7.98125450e-04\n",
            " 1.27550389e-03 2.00127921e-03 3.08282485e-03 4.66235445e-03\n",
            " 6.92272360e-03 1.00916915e-02 1.44432927e-02 2.02947509e-02\n",
            " 2.79973231e-02 3.79196712e-02 5.04229076e-02 6.58273660e-02\n",
            " 8.43723876e-02 1.06171871e-01 1.31169804e-01 1.59101231e-01\n",
            " 1.89464776e-01 2.21512730e-01 2.54263587e-01 2.86539776e-01\n",
            " 3.17030419e-01 3.44375480e-01 3.67264354e-01 3.84539188e-01\n",
            " 3.95291705e-01 3.98942280e-01 3.95291705e-01 3.84539188e-01\n",
            " 3.67264354e-01 3.44375480e-01 3.17030419e-01 2.86539776e-01\n",
            " 2.54263587e-01 2.21512730e-01 1.89464776e-01 1.59101231e-01\n",
            " 1.31169804e-01 1.06171871e-01 8.43723876e-02 6.58273660e-02\n",
            " 5.04229076e-02 3.79196712e-02 2.79973231e-02 2.02947509e-02\n",
            " 1.44432927e-02 1.00916915e-02 6.92272360e-03 4.66235445e-03\n",
            " 3.08282485e-03 2.00127921e-03 1.27550389e-03 7.98125450e-04\n",
            " 4.90315702e-04 2.95730225e-04 1.75118043e-04]\n"
          ],
          "name": "stdout"
        }
      ]
    },
    {
      "cell_type": "markdown",
      "metadata": {
        "id": "20XrMAIw82IL",
        "colab_type": "text"
      },
      "source": [
        "# code stop here"
      ]
    },
    {
      "cell_type": "code",
      "metadata": {
        "id": "YxFwAUJJyzQ4",
        "colab_type": "code",
        "colab": {
          "base_uri": "https://localhost:8080/",
          "height": 34
        },
        "outputId": "181f4154-3b8b-4536-8965-3ae8d8c7fcf6"
      },
      "source": [
        "print(close2.shape)"
      ],
      "execution_count": null,
      "outputs": [
        {
          "output_type": "stream",
          "text": [
            "(2190645,)\n"
          ],
          "name": "stdout"
        }
      ]
    },
    {
      "cell_type": "code",
      "metadata": {
        "id": "OdmrQyiI0PwQ",
        "colab_type": "code",
        "colab": {}
      },
      "source": [
        "r4 = getdiff(close2[:1000001], 1)"
      ],
      "execution_count": null,
      "outputs": []
    },
    {
      "cell_type": "code",
      "metadata": {
        "id": "D4L4pkcQ0RoT",
        "colab_type": "code",
        "colab": {
          "base_uri": "https://localhost:8080/",
          "height": 265
        },
        "outputId": "82746c7c-b9a6-4006-9b76-8301c119d77d"
      },
      "source": [
        "plotr(r4)"
      ],
      "execution_count": null,
      "outputs": [
        {
          "output_type": "display_data",
          "data": {
            "image/png": "[encoded data removed]",
            "text/plain": [
              "<Figure size 432x288 with 1 Axes>"
            ]
          },
          "metadata": {
            "tags": []
          }
        }
      ]
    },
    {
      "cell_type": "code",
      "metadata": {
        "id": "boqbo6Thy8Zh",
        "colab_type": "code",
        "colab": {}
      },
      "source": [
        "r3 = getdiff(close2[:100001], 1)"
      ],
      "execution_count": null,
      "outputs": []
    },
    {
      "cell_type": "code",
      "metadata": {
        "id": "nscJ5I1BzK4A",
        "colab_type": "code",
        "colab": {
          "base_uri": "https://localhost:8080/",
          "height": 265
        },
        "outputId": "2676c20c-bc24-4d92-b21e-0b1b81a68f1d"
      },
      "source": [
        "plotr(r3)"
      ],
      "execution_count": null,
      "outputs": [
        {
          "output_type": "display_data",
          "data": {
            "image/png": "[encoded data removed]",
            "text/plain": [
              "<Figure size 432x288 with 1 Axes>"
            ]
          },
          "metadata": {
            "tags": []
          }
        }
      ]
    },
    {
      "cell_type": "code",
      "metadata": {
        "id": "S062HJZ723_E",
        "colab_type": "code",
        "colab": {
          "base_uri": "https://localhost:8080/",
          "height": 1000
        },
        "outputId": "4c5aec41-324c-4205-bb5d-d8bacbfbb253"
      },
      "source": [
        "r5 = getdiff(close2[:1000001], 30)"
      ],
      "execution_count": null,
      "outputs": [
        {
          "output_type": "stream",
          "text": [
            "0\n",
            "10000\n",
            "20000\n",
            "30000\n",
            "40000\n",
            "50000\n",
            "60000\n",
            "70000\n",
            "80000\n",
            "90000\n",
            "100000\n",
            "110000\n",
            "120000\n",
            "130000\n",
            "140000\n",
            "150000\n",
            "160000\n",
            "170000\n",
            "180000\n",
            "190000\n",
            "200000\n",
            "210000\n",
            "220000\n",
            "230000\n",
            "240000\n",
            "250000\n",
            "260000\n",
            "270000\n",
            "280000\n",
            "290000\n",
            "300000\n",
            "310000\n",
            "320000\n",
            "330000\n",
            "340000\n",
            "350000\n",
            "360000\n",
            "370000\n",
            "380000\n",
            "390000\n",
            "400000\n",
            "410000\n",
            "420000\n",
            "430000\n",
            "440000\n",
            "450000\n",
            "460000\n",
            "470000\n",
            "480000\n",
            "490000\n",
            "500000\n",
            "510000\n",
            "520000\n",
            "530000\n",
            "540000\n",
            "550000\n",
            "560000\n",
            "570000\n",
            "580000\n",
            "590000\n",
            "600000\n",
            "610000\n",
            "620000\n",
            "630000\n",
            "640000\n",
            "650000\n",
            "660000\n",
            "670000\n",
            "680000\n",
            "690000\n",
            "700000\n",
            "710000\n",
            "720000\n",
            "730000\n",
            "740000\n",
            "750000\n",
            "760000\n",
            "770000\n",
            "780000\n",
            "790000\n",
            "800000\n",
            "810000\n",
            "820000\n",
            "830000\n",
            "840000\n",
            "850000\n",
            "860000\n",
            "870000\n",
            "880000\n",
            "890000\n",
            "900000\n",
            "910000\n",
            "920000\n",
            "930000\n",
            "940000\n",
            "950000\n",
            "960000\n",
            "970000\n",
            "980000\n",
            "990000\n"
          ],
          "name": "stdout"
        }
      ]
    },
    {
      "cell_type": "code",
      "metadata": {
        "id": "hKOouUck4_XD",
        "colab_type": "code",
        "colab": {
          "base_uri": "https://localhost:8080/",
          "height": 265
        },
        "outputId": "d0c16ccf-85ff-41f8-a1da-b5107e0cf9c1"
      },
      "source": [
        "plotr(r5)"
      ],
      "execution_count": null,
      "outputs": [
        {
          "output_type": "display_data",
          "data": {
            "image/png": "[encoded data removed]",
            "text/plain": [
              "<Figure size 432x288 with 1 Axes>"
            ]
          },
          "metadata": {
            "tags": []
          }
        }
      ]
    },
    {
      "cell_type": "code",
      "metadata": {
        "id": "0-UpNhLTqTMl",
        "colab_type": "code",
        "colab": {}
      },
      "source": [
        "unique_elements, counts_elements = np.unique(人, return_counts=True)"
      ],
      "execution_count": null,
      "outputs": []
    },
    {
      "cell_type": "code",
      "metadata": {
        "id": "Wv59kfb-qWCV",
        "colab_type": "code",
        "colab": {
          "base_uri": "https://localhost:8080/",
          "height": 119
        },
        "outputId": "dac118f7-a726-415d-bdc2-667822a20533"
      },
      "source": [
        "print(unique_elements)\n",
        "print(counts_elements)"
      ],
      "execution_count": null,
      "outputs": [
        {
          "output_type": "stream",
          "text": [
            "[-6.5  -5.75 -2.5  -2.25 -2.   -1.75 -1.5  -1.25 -1.   -0.75 -0.5  -0.25\n",
            "  0.    0.25  0.5   0.75  1.    1.25  1.5   1.75  2.    2.25  2.5   2.75\n",
            "  3.    4.    4.5   5.25  6.    6.75  7.   12.25]\n",
            "[   1    1    2    6    3   12   29   50  167  407  982 1956 2666 2027\n",
            " 1081  361  152   57   15   11    2    1    1    1    2    1    1    1\n",
            "    1    1    1    1]\n"
          ],
          "name": "stdout"
        }
      ]
    },
    {
      "cell_type": "code",
      "metadata": {
        "id": "2pTd1Pfyqb3F",
        "colab_type": "code",
        "colab": {
          "base_uri": "https://localhost:8080/",
          "height": 136
        },
        "outputId": "79fd9e88-6697-4b1d-9415-c161ef105e1f"
      },
      "source": [
        "counts = np.log10(counts_elements)\n",
        "counts"
      ],
      "execution_count": null,
      "outputs": [
        {
          "output_type": "execute_result",
          "data": {
            "text/plain": [
              "array([0.        , 0.        , 0.30103   , 0.77815125, 0.47712125,\n",
              "       1.07918125, 1.462398  , 1.69897   , 2.22271647, 2.60959441,\n",
              "       2.99211149, 3.29136885, 3.42586015, 3.30685375, 3.03382569,\n",
              "       2.5575072 , 2.18184359, 1.75587486, 1.17609126, 1.04139269,\n",
              "       0.30103   , 0.        , 0.        , 0.        , 0.30103   ,\n",
              "       0.        , 0.        , 0.        , 0.        , 0.        ,\n",
              "       0.        , 0.        ])"
            ]
          },
          "metadata": {
            "tags": []
          },
          "execution_count": 93
        }
      ]
    },
    {
      "cell_type": "code",
      "metadata": {
        "id": "KUTs_oIluMiY",
        "colab_type": "code",
        "colab": {
          "base_uri": "https://localhost:8080/",
          "height": 435
        },
        "outputId": "2962f17a-2f7f-4d8f-f061-29ab814d125c"
      },
      "source": [
        "weights = np.ones(r2.size) / r2.size\n",
        "plt.hist(r2,bins=30, weights=weights)"
      ],
      "execution_count": null,
      "outputs": [
        {
          "output_type": "execute_result",
          "data": {
            "text/plain": [
              "(array([1.000e-04, 1.000e-04, 0.000e+00, 0.000e+00, 0.000e+00, 0.000e+00,\n",
              "        8.000e-04, 1.500e-03, 2.460e-02, 1.389e-01, 6.649e-01, 1.442e-01,\n",
              "        2.240e-02, 1.300e-03, 3.000e-04, 2.000e-04, 1.000e-04, 1.000e-04,\n",
              "        1.000e-04, 0.000e+00, 1.000e-04, 2.000e-04, 0.000e+00, 0.000e+00,\n",
              "        0.000e+00, 0.000e+00, 0.000e+00, 0.000e+00, 0.000e+00, 1.000e-04]),\n",
              " array([-6.5  , -5.875, -5.25 , -4.625, -4.   , -3.375, -2.75 , -2.125,\n",
              "        -1.5  , -0.875, -0.25 ,  0.375,  1.   ,  1.625,  2.25 ,  2.875,\n",
              "         3.5  ,  4.125,  4.75 ,  5.375,  6.   ,  6.625,  7.25 ,  7.875,\n",
              "         8.5  ,  9.125,  9.75 , 10.375, 11.   , 11.625, 12.25 ]),\n",
              " <a list of 30 Patch objects>)"
            ]
          },
          "metadata": {
            "tags": []
          },
          "execution_count": 105
        },
        {
          "output_type": "display_data",
          "data": {
            "image/png": "[encoded data removed]",
            "text/plain": [
              "<Figure size 432x288 with 1 Axes>"
            ]
          },
          "metadata": {
            "tags": []
          }
        }
      ]
    },
    {
      "cell_type": "code",
      "metadata": {
        "id": "FuXvJtFWqj4Z",
        "colab_type": "code",
        "colab": {
          "base_uri": "https://localhost:8080/",
          "height": 298
        },
        "outputId": "fc0148f1-64fd-4f65-90f1-5622e9287f6e"
      },
      "source": [
        "plt.hist(r2, bins = 30,log=True) \n",
        "plt.title(\"histogram\") "
      ],
      "execution_count": null,
      "outputs": [
        {
          "output_type": "execute_result",
          "data": {
            "text/plain": [
              "Text(0.5, 1.0, 'histogram')"
            ]
          },
          "metadata": {
            "tags": []
          },
          "execution_count": 119
        },
        {
          "output_type": "display_data",
          "data": {
            "image/png": "[encoded data removed]",
            "text/plain": [
              "<Figure size 432x288 with 1 Axes>"
            ]
          },
          "metadata": {
            "tags": []
          }
        }
      ]
    },
    {
      "cell_type": "code",
      "metadata": {
        "id": "Tvx3TK_TxTU8",
        "colab_type": "code",
        "colab": {
          "base_uri": "https://localhost:8080/",
          "height": 265
        },
        "outputId": "4be3b87e-d13f-451f-f4c4-434f7ea7a9e7"
      },
      "source": [
        ""
      ],
      "execution_count": null,
      "outputs": [
        {
          "output_type": "display_data",
          "data": {
            "image/png": "[encoded data removed]",
            "text/plain": [
              "<Figure size 432x288 with 1 Axes>"
            ]
          },
          "metadata": {
            "tags": []
          }
        }
      ]
    },
    {
      "cell_type": "code",
      "metadata": {
        "id": "mtpj5d1IupWd",
        "colab_type": "code",
        "colab": {
          "base_uri": "https://localhost:8080/",
          "height": 336
        },
        "outputId": "cb15a2f2-484a-4441-b3f6-45f7bc819fc1"
      },
      "source": [
        "results, edges = np.histogram(r2, normed=True)\n",
        "binWidth = edges[1] - edges[0]\n",
        "plt.bar(edges[:-1], results*binWidth, binWidth)"
      ],
      "execution_count": null,
      "outputs": [
        {
          "output_type": "stream",
          "text": [
            "/usr/local/lib/python3.6/dist-packages/ipykernel_launcher.py:1: VisibleDeprecationWarning: Passing `normed=True` on non-uniform bins has always been broken, and computes neither the probability density function nor the probability mass function. The result is only correct if the bins are uniform, when density=True will produce the same result anyway. The argument will be removed in a future version of numpy.\n",
            "  \"\"\"Entry point for launching an IPython kernel.\n"
          ],
          "name": "stderr"
        },
        {
          "output_type": "execute_result",
          "data": {
            "text/plain": [
              "<BarContainer object of 10 artists>"
            ]
          },
          "metadata": {
            "tags": []
          },
          "execution_count": 106
        },
        {
          "output_type": "display_data",
          "data": {
            "image/png": "[encoded data removed]",
            "text/plain": [
              "<Figure size 432x288 with 1 Axes>"
            ]
          },
          "metadata": {
            "tags": []
          }
        }
      ]
    },
    {
      "cell_type": "code",
      "metadata": {
        "id": "ketuEo_NvAb2",
        "colab_type": "code",
        "colab": {
          "base_uri": "https://localhost:8080/",
          "height": 282
        },
        "outputId": "697cda38-f0d7-4799-bc15-14c2bd5e7ead"
      },
      "source": [
        "s = np.std(counts)\n",
        "m = np.mean(counts)\n",
        "plt.plot(stats.norm.pdf(counts,m,s))"
      ],
      "execution_count": null,
      "outputs": [
        {
          "output_type": "execute_result",
          "data": {
            "text/plain": [
              "[<matplotlib.lines.Line2D at 0x7f6fdb40dcc0>]"
            ]
          },
          "metadata": {
            "tags": []
          },
          "execution_count": 110
        },
        {
          "output_type": "display_data",
          "data": {
            "image/png": "[encoded data removed]",
            "text/plain": [
              "<Figure size 432x288 with 1 Axes>"
            ]
          },
          "metadata": {
            "tags": []
          }
        }
      ]
    },
    {
      "cell_type": "code",
      "metadata": {
        "id": "l9E4Sh3gwSpz",
        "colab_type": "code",
        "colab": {
          "base_uri": "https://localhost:8080/",
          "height": 623
        },
        "outputId": "e1f8b7cc-6cb5-4600-9667-525888674b4e"
      },
      "source": [
        "import pylab as pl\n",
        "h = sorted(r2)\n",
        "\n",
        "fit = stats.norm.pdf(h, np.mean(h), np.std(h))  #this is a fitting indeed\n",
        "\n",
        "pl.plot(h,fit,'-o')\n",
        "\n",
        "pl.hist(h,normed=True,log=True)      #use this to draw histogram of your data\n",
        "\n",
        "pl.show() "
      ],
      "execution_count": null,
      "outputs": [
        {
          "output_type": "error",
          "ename": "AttributeError",
          "evalue": "ignored",
          "traceback": [
            "\u001b[0;31m---------------------------------------------------------------------------\u001b[0m",
            "\u001b[0;31mAttributeError\u001b[0m                            Traceback (most recent call last)",
            "\u001b[0;32m<ipython-input-116-c17046225e74>\u001b[0m in \u001b[0;36m<module>\u001b[0;34m()\u001b[0m\n\u001b[1;32m      6\u001b[0m \u001b[0mpl\u001b[0m\u001b[0;34m.\u001b[0m\u001b[0mplot\u001b[0m\u001b[0;34m(\u001b[0m\u001b[0mh\u001b[0m\u001b[0;34m,\u001b[0m\u001b[0mfit\u001b[0m\u001b[0;34m,\u001b[0m\u001b[0;34m'-o'\u001b[0m\u001b[0;34m)\u001b[0m\u001b[0;34m\u001b[0m\u001b[0;34m\u001b[0m\u001b[0m\n\u001b[1;32m      7\u001b[0m \u001b[0;34m\u001b[0m\u001b[0m\n\u001b[0;32m----> 8\u001b[0;31m \u001b[0mpl\u001b[0m\u001b[0;34m.\u001b[0m\u001b[0mhist\u001b[0m\u001b[0;34m(\u001b[0m\u001b[0mh\u001b[0m\u001b[0;34m,\u001b[0m\u001b[0mnormed\u001b[0m\u001b[0;34m=\u001b[0m\u001b[0;32mTrue\u001b[0m\u001b[0;34m,\u001b[0m\u001b[0mlog\u001b[0m\u001b[0;34m=\u001b[0m\u001b[0;32mTrue\u001b[0m\u001b[0;34m)\u001b[0m      \u001b[0;31m#use this to draw histogram of your data\u001b[0m\u001b[0;34m\u001b[0m\u001b[0;34m\u001b[0m\u001b[0m\n\u001b[0m\u001b[1;32m      9\u001b[0m \u001b[0;34m\u001b[0m\u001b[0m\n\u001b[1;32m     10\u001b[0m \u001b[0mpl\u001b[0m\u001b[0;34m.\u001b[0m\u001b[0mshow\u001b[0m\u001b[0;34m(\u001b[0m\u001b[0;34m)\u001b[0m\u001b[0;34m\u001b[0m\u001b[0;34m\u001b[0m\u001b[0m\n",
            "\u001b[0;32m/usr/local/lib/python3.6/dist-packages/matplotlib/pyplot.py\u001b[0m in \u001b[0;36mhist\u001b[0;34m(x, bins, range, density, weights, cumulative, bottom, histtype, align, orientation, rwidth, log, color, label, stacked, data, **kwargs)\u001b[0m\n\u001b[1;32m   2608\u001b[0m         \u001b[0malign\u001b[0m\u001b[0;34m=\u001b[0m\u001b[0malign\u001b[0m\u001b[0;34m,\u001b[0m \u001b[0morientation\u001b[0m\u001b[0;34m=\u001b[0m\u001b[0morientation\u001b[0m\u001b[0;34m,\u001b[0m \u001b[0mrwidth\u001b[0m\u001b[0;34m=\u001b[0m\u001b[0mrwidth\u001b[0m\u001b[0;34m,\u001b[0m \u001b[0mlog\u001b[0m\u001b[0;34m=\u001b[0m\u001b[0mlog\u001b[0m\u001b[0;34m,\u001b[0m\u001b[0;34m\u001b[0m\u001b[0;34m\u001b[0m\u001b[0m\n\u001b[1;32m   2609\u001b[0m         color=color, label=label, stacked=stacked, **({\"data\": data}\n\u001b[0;32m-> 2610\u001b[0;31m         if data is not None else {}), **kwargs)\n\u001b[0m\u001b[1;32m   2611\u001b[0m \u001b[0;34m\u001b[0m\u001b[0m\n\u001b[1;32m   2612\u001b[0m \u001b[0;34m\u001b[0m\u001b[0m\n",
            "\u001b[0;32m/usr/local/lib/python3.6/dist-packages/matplotlib/__init__.py\u001b[0m in \u001b[0;36minner\u001b[0;34m(ax, data, *args, **kwargs)\u001b[0m\n\u001b[1;32m   1563\u001b[0m     \u001b[0;32mdef\u001b[0m \u001b[0minner\u001b[0m\u001b[0;34m(\u001b[0m\u001b[0max\u001b[0m\u001b[0;34m,\u001b[0m \u001b[0;34m*\u001b[0m\u001b[0margs\u001b[0m\u001b[0;34m,\u001b[0m \u001b[0mdata\u001b[0m\u001b[0;34m=\u001b[0m\u001b[0;32mNone\u001b[0m\u001b[0;34m,\u001b[0m \u001b[0;34m**\u001b[0m\u001b[0mkwargs\u001b[0m\u001b[0;34m)\u001b[0m\u001b[0;34m:\u001b[0m\u001b[0;34m\u001b[0m\u001b[0;34m\u001b[0m\u001b[0m\n\u001b[1;32m   1564\u001b[0m         \u001b[0;32mif\u001b[0m \u001b[0mdata\u001b[0m \u001b[0;32mis\u001b[0m \u001b[0;32mNone\u001b[0m\u001b[0;34m:\u001b[0m\u001b[0;34m\u001b[0m\u001b[0;34m\u001b[0m\u001b[0m\n\u001b[0;32m-> 1565\u001b[0;31m             \u001b[0;32mreturn\u001b[0m \u001b[0mfunc\u001b[0m\u001b[0;34m(\u001b[0m\u001b[0max\u001b[0m\u001b[0;34m,\u001b[0m \u001b[0;34m*\u001b[0m\u001b[0mmap\u001b[0m\u001b[0;34m(\u001b[0m\u001b[0msanitize_sequence\u001b[0m\u001b[0;34m,\u001b[0m \u001b[0margs\u001b[0m\u001b[0;34m)\u001b[0m\u001b[0;34m,\u001b[0m \u001b[0;34m**\u001b[0m\u001b[0mkwargs\u001b[0m\u001b[0;34m)\u001b[0m\u001b[0;34m\u001b[0m\u001b[0;34m\u001b[0m\u001b[0m\n\u001b[0m\u001b[1;32m   1566\u001b[0m \u001b[0;34m\u001b[0m\u001b[0m\n\u001b[1;32m   1567\u001b[0m         \u001b[0mbound\u001b[0m \u001b[0;34m=\u001b[0m \u001b[0mnew_sig\u001b[0m\u001b[0;34m.\u001b[0m\u001b[0mbind\u001b[0m\u001b[0;34m(\u001b[0m\u001b[0max\u001b[0m\u001b[0;34m,\u001b[0m \u001b[0;34m*\u001b[0m\u001b[0margs\u001b[0m\u001b[0;34m,\u001b[0m \u001b[0;34m**\u001b[0m\u001b[0mkwargs\u001b[0m\u001b[0;34m)\u001b[0m\u001b[0;34m\u001b[0m\u001b[0;34m\u001b[0m\u001b[0m\n",
            "\u001b[0;32m/usr/local/lib/python3.6/dist-packages/matplotlib/axes/_axes.py\u001b[0m in \u001b[0;36mhist\u001b[0;34m(self, x, bins, range, density, weights, cumulative, bottom, histtype, align, orientation, rwidth, log, color, label, stacked, **kwargs)\u001b[0m\n\u001b[1;32m   6806\u001b[0m             \u001b[0;32mif\u001b[0m \u001b[0mpatch\u001b[0m\u001b[0;34m:\u001b[0m\u001b[0;34m\u001b[0m\u001b[0;34m\u001b[0m\u001b[0m\n\u001b[1;32m   6807\u001b[0m                 \u001b[0mp\u001b[0m \u001b[0;34m=\u001b[0m \u001b[0mpatch\u001b[0m\u001b[0;34m[\u001b[0m\u001b[0;36m0\u001b[0m\u001b[0;34m]\u001b[0m\u001b[0;34m\u001b[0m\u001b[0;34m\u001b[0m\u001b[0m\n\u001b[0;32m-> 6808\u001b[0;31m                 \u001b[0mp\u001b[0m\u001b[0;34m.\u001b[0m\u001b[0mupdate\u001b[0m\u001b[0;34m(\u001b[0m\u001b[0mkwargs\u001b[0m\u001b[0;34m)\u001b[0m\u001b[0;34m\u001b[0m\u001b[0;34m\u001b[0m\u001b[0m\n\u001b[0m\u001b[1;32m   6809\u001b[0m                 \u001b[0;32mif\u001b[0m \u001b[0mlbl\u001b[0m \u001b[0;32mis\u001b[0m \u001b[0;32mnot\u001b[0m \u001b[0;32mNone\u001b[0m\u001b[0;34m:\u001b[0m\u001b[0;34m\u001b[0m\u001b[0;34m\u001b[0m\u001b[0m\n\u001b[1;32m   6810\u001b[0m                     \u001b[0mp\u001b[0m\u001b[0;34m.\u001b[0m\u001b[0mset_label\u001b[0m\u001b[0;34m(\u001b[0m\u001b[0mlbl\u001b[0m\u001b[0;34m)\u001b[0m\u001b[0;34m\u001b[0m\u001b[0;34m\u001b[0m\u001b[0m\n",
            "\u001b[0;32m/usr/local/lib/python3.6/dist-packages/matplotlib/artist.py\u001b[0m in \u001b[0;36mupdate\u001b[0;34m(self, props)\u001b[0m\n\u001b[1;32m   1004\u001b[0m \u001b[0;34m\u001b[0m\u001b[0m\n\u001b[1;32m   1005\u001b[0m         \u001b[0;32mwith\u001b[0m \u001b[0mcbook\u001b[0m\u001b[0;34m.\u001b[0m\u001b[0m_setattr_cm\u001b[0m\u001b[0;34m(\u001b[0m\u001b[0mself\u001b[0m\u001b[0;34m,\u001b[0m \u001b[0meventson\u001b[0m\u001b[0;34m=\u001b[0m\u001b[0;32mFalse\u001b[0m\u001b[0;34m)\u001b[0m\u001b[0;34m:\u001b[0m\u001b[0;34m\u001b[0m\u001b[0;34m\u001b[0m\u001b[0m\n\u001b[0;32m-> 1006\u001b[0;31m             \u001b[0mret\u001b[0m \u001b[0;34m=\u001b[0m \u001b[0;34m[\u001b[0m\u001b[0m_update_property\u001b[0m\u001b[0;34m(\u001b[0m\u001b[0mself\u001b[0m\u001b[0;34m,\u001b[0m \u001b[0mk\u001b[0m\u001b[0;34m,\u001b[0m \u001b[0mv\u001b[0m\u001b[0;34m)\u001b[0m \u001b[0;32mfor\u001b[0m \u001b[0mk\u001b[0m\u001b[0;34m,\u001b[0m \u001b[0mv\u001b[0m \u001b[0;32min\u001b[0m \u001b[0mprops\u001b[0m\u001b[0;34m.\u001b[0m\u001b[0mitems\u001b[0m\u001b[0;34m(\u001b[0m\u001b[0;34m)\u001b[0m\u001b[0;34m]\u001b[0m\u001b[0;34m\u001b[0m\u001b[0;34m\u001b[0m\u001b[0m\n\u001b[0m\u001b[1;32m   1007\u001b[0m \u001b[0;34m\u001b[0m\u001b[0m\n\u001b[1;32m   1008\u001b[0m         \u001b[0;32mif\u001b[0m \u001b[0mlen\u001b[0m\u001b[0;34m(\u001b[0m\u001b[0mret\u001b[0m\u001b[0;34m)\u001b[0m\u001b[0;34m:\u001b[0m\u001b[0;34m\u001b[0m\u001b[0;34m\u001b[0m\u001b[0m\n",
            "\u001b[0;32m/usr/local/lib/python3.6/dist-packages/matplotlib/artist.py\u001b[0m in \u001b[0;36m<listcomp>\u001b[0;34m(.0)\u001b[0m\n\u001b[1;32m   1004\u001b[0m \u001b[0;34m\u001b[0m\u001b[0m\n\u001b[1;32m   1005\u001b[0m         \u001b[0;32mwith\u001b[0m \u001b[0mcbook\u001b[0m\u001b[0;34m.\u001b[0m\u001b[0m_setattr_cm\u001b[0m\u001b[0;34m(\u001b[0m\u001b[0mself\u001b[0m\u001b[0;34m,\u001b[0m \u001b[0meventson\u001b[0m\u001b[0;34m=\u001b[0m\u001b[0;32mFalse\u001b[0m\u001b[0;34m)\u001b[0m\u001b[0;34m:\u001b[0m\u001b[0;34m\u001b[0m\u001b[0;34m\u001b[0m\u001b[0m\n\u001b[0;32m-> 1006\u001b[0;31m             \u001b[0mret\u001b[0m \u001b[0;34m=\u001b[0m \u001b[0;34m[\u001b[0m\u001b[0m_update_property\u001b[0m\u001b[0;34m(\u001b[0m\u001b[0mself\u001b[0m\u001b[0;34m,\u001b[0m \u001b[0mk\u001b[0m\u001b[0;34m,\u001b[0m \u001b[0mv\u001b[0m\u001b[0;34m)\u001b[0m \u001b[0;32mfor\u001b[0m \u001b[0mk\u001b[0m\u001b[0;34m,\u001b[0m \u001b[0mv\u001b[0m \u001b[0;32min\u001b[0m \u001b[0mprops\u001b[0m\u001b[0;34m.\u001b[0m\u001b[0mitems\u001b[0m\u001b[0;34m(\u001b[0m\u001b[0;34m)\u001b[0m\u001b[0;34m]\u001b[0m\u001b[0;34m\u001b[0m\u001b[0;34m\u001b[0m\u001b[0m\n\u001b[0m\u001b[1;32m   1007\u001b[0m \u001b[0;34m\u001b[0m\u001b[0m\n\u001b[1;32m   1008\u001b[0m         \u001b[0;32mif\u001b[0m \u001b[0mlen\u001b[0m\u001b[0;34m(\u001b[0m\u001b[0mret\u001b[0m\u001b[0;34m)\u001b[0m\u001b[0;34m:\u001b[0m\u001b[0;34m\u001b[0m\u001b[0;34m\u001b[0m\u001b[0m\n",
            "\u001b[0;32m/usr/local/lib/python3.6/dist-packages/matplotlib/artist.py\u001b[0m in \u001b[0;36m_update_property\u001b[0;34m(self, k, v)\u001b[0m\n\u001b[1;32m   1000\u001b[0m                 \u001b[0;32mif\u001b[0m \u001b[0;32mnot\u001b[0m \u001b[0mcallable\u001b[0m\u001b[0;34m(\u001b[0m\u001b[0mfunc\u001b[0m\u001b[0;34m)\u001b[0m\u001b[0;34m:\u001b[0m\u001b[0;34m\u001b[0m\u001b[0;34m\u001b[0m\u001b[0m\n\u001b[1;32m   1001\u001b[0m                     raise AttributeError('{!r} object has no property {!r}'\n\u001b[0;32m-> 1002\u001b[0;31m                                          .format(type(self).__name__, k))\n\u001b[0m\u001b[1;32m   1003\u001b[0m                 \u001b[0;32mreturn\u001b[0m \u001b[0mfunc\u001b[0m\u001b[0;34m(\u001b[0m\u001b[0mv\u001b[0m\u001b[0;34m)\u001b[0m\u001b[0;34m\u001b[0m\u001b[0;34m\u001b[0m\u001b[0m\n\u001b[1;32m   1004\u001b[0m \u001b[0;34m\u001b[0m\u001b[0m\n",
            "\u001b[0;31mAttributeError\u001b[0m: 'Rectangle' object has no property 'normed'"
          ]
        },
        {
          "output_type": "display_data",
          "data": {
            "image/png": "[encoded data removed]",
            "text/plain": [
              "<Figure size 432x288 with 1 Axes>"
            ]
          },
          "metadata": {
            "tags": []
          }
        }
      ]
    },
    {
      "cell_type": "code",
      "metadata": {
        "id": "4bcoBxJvvZnR",
        "colab_type": "code",
        "colab": {
          "base_uri": "https://localhost:8080/",
          "height": 265
        },
        "outputId": "b517c5e3-4914-47f7-aebd-ad42c9bc5eb8"
      },
      "source": [
        "import seaborn as sns\n",
        "data = stats.norm.rvs(5,0.4,size=1000) # you can use a pandas series or a list if you want\n",
        "\n",
        "sns.distplot(data)\n",
        "plt.show()"
      ],
      "execution_count": null,
      "outputs": [
        {
          "output_type": "display_data",
          "data": {
            "image/png": "[encoded data removed]",
            "text/plain": [
              "<Figure size 432x288 with 1 Axes>"
            ]
          },
          "metadata": {
            "tags": []
          }
        }
      ]
    },
    {
      "cell_type": "code",
      "metadata": {
        "id": "F-5clcCeoJDi",
        "colab_type": "code",
        "colab": {}
      },
      "source": [
        "def getpositive(arr):\n",
        "    for i in range(len(arr)):\n",
        "        if arr[i] < 0:\n",
        "            arr[i] = -arr[i]\n",
        "        if arr[i] == 0:\n",
        "            arr[i] = 0.00000000001\n",
        "    return arr"
      ],
      "execution_count": null,
      "outputs": []
    },
    {
      "cell_type": "code",
      "metadata": {
        "id": "Oe5DeoCfoSn7",
        "colab_type": "code",
        "colab": {}
      },
      "source": [
        "r2_p = getpositive(r2)"
      ],
      "execution_count": null,
      "outputs": []
    },
    {
      "cell_type": "code",
      "metadata": {
        "id": "NGL0lnIqoifA",
        "colab_type": "code",
        "colab": {
          "base_uri": "https://localhost:8080/",
          "height": 34
        },
        "outputId": "ee767bf6-a82b-4692-f2e5-5cb5bd35827c"
      },
      "source": [
        "r2_p"
      ],
      "execution_count": null,
      "outputs": [
        {
          "output_type": "execute_result",
          "data": {
            "text/plain": [
              "array([0.25, 0.25, 0.5 , ..., 0.75, 0.5 , 0.5 ])"
            ]
          },
          "metadata": {
            "tags": []
          },
          "execution_count": 78
        }
      ]
    },
    {
      "cell_type": "code",
      "metadata": {
        "id": "QkLgd_OYoANX",
        "colab_type": "code",
        "colab": {}
      },
      "source": [
        "r3 = np.log10(r2_p)"
      ],
      "execution_count": null,
      "outputs": []
    },
    {
      "cell_type": "code",
      "metadata": {
        "id": "LQkgmnd4oFPx",
        "colab_type": "code",
        "colab": {
          "base_uri": "https://localhost:8080/",
          "height": 51
        },
        "outputId": "174519dc-d84c-419e-d4d3-b40af32bde93"
      },
      "source": [
        "r3"
      ],
      "execution_count": null,
      "outputs": [
        {
          "output_type": "execute_result",
          "data": {
            "text/plain": [
              "array([-0.60205999, -0.60205999, -0.30103   , ..., -0.12493874,\n",
              "       -0.30103   , -0.30103   ])"
            ]
          },
          "metadata": {
            "tags": []
          },
          "execution_count": 80
        }
      ]
    },
    {
      "cell_type": "code",
      "metadata": {
        "id": "ceuENSYKkEYJ",
        "colab_type": "code",
        "colab": {}
      },
      "source": [
        "norm = np.linalg.norm(r2)\n",
        "normal_array = r2/norm"
      ],
      "execution_count": null,
      "outputs": []
    },
    {
      "cell_type": "code",
      "metadata": {
        "id": "nh3IxZL7mV_d",
        "colab_type": "code",
        "colab": {
          "base_uri": "https://localhost:8080/",
          "height": 298
        },
        "outputId": "56ccebe0-f0df-41e9-ecd3-dafd96d82c3b"
      },
      "source": [
        "plt.hist(normal_array, bins = 'auto') \n",
        "plt.title(\"histogram\") "
      ],
      "execution_count": null,
      "outputs": [
        {
          "output_type": "execute_result",
          "data": {
            "text/plain": [
              "Text(0.5, 1.0, 'histogram')"
            ]
          },
          "metadata": {
            "tags": []
          },
          "execution_count": 57
        },
        {
          "output_type": "display_data",
          "data": {
            "image/png": "[encoded data removed]",
            "text/plain": [
              "<Figure size 432x288 with 1 Axes>"
            ]
          },
          "metadata": {
            "tags": []
          }
        }
      ]
    },
    {
      "cell_type": "code",
      "metadata": {
        "id": "bBbdWdmenMvx",
        "colab_type": "code",
        "colab": {}
      },
      "source": [
        "var = np.var(normal_array)\n",
        "mean = np.mean(normal_array)"
      ],
      "execution_count": null,
      "outputs": []
    },
    {
      "cell_type": "code",
      "metadata": {
        "id": "gkOCtPsPn6VZ",
        "colab_type": "code",
        "colab": {}
      },
      "source": [
        ""
      ],
      "execution_count": null,
      "outputs": []
    },
    {
      "cell_type": "code",
      "metadata": {
        "id": "DjNnWqUBnbwp",
        "colab_type": "code",
        "colab": {
          "base_uri": "https://localhost:8080/",
          "height": 265
        },
        "outputId": "9b7e387a-f2bb-4956-f7c4-943f18bb667e"
      },
      "source": [
        "import scipy.stats as stats\n",
        "import math\n",
        "plt.plot(normal_array, stats.norm.pdf(normal_array, 0, math.sqrt(var)))\n",
        "plt.show()"
      ],
      "execution_count": null,
      "outputs": [
        {
          "output_type": "display_data",
          "data": {
            "image/png": "[encoded data removed]",
            "text/plain": [
              "<Figure size 432x288 with 1 Axes>"
            ]
          },
          "metadata": {
            "tags": []
          }
        }
      ]
    },
    {
      "cell_type": "code",
      "metadata": {
        "id": "viNIf5h_el-z",
        "colab_type": "code",
        "colab": {}
      },
      "source": [
        "norm_2 = np.linalg.norm(r3)\n",
        "normal_array_2 = r3/norm_2"
      ],
      "execution_count": null,
      "outputs": []
    },
    {
      "cell_type": "code",
      "metadata": {
        "id": "WjQWg1xupLK6",
        "colab_type": "code",
        "colab": {}
      },
      "source": [
        "var_2 = np.var(normal_array_2)\n",
        "mean_2 = np.mean(normal_array_2)"
      ],
      "execution_count": null,
      "outputs": []
    },
    {
      "cell_type": "code",
      "metadata": {
        "id": "NaOOJb64pCsC",
        "colab_type": "code",
        "colab": {
          "base_uri": "https://localhost:8080/",
          "height": 266
        },
        "outputId": "1ccfce70-e954-463f-a848-06c84c09794e"
      },
      "source": [
        "plt.plot(normal_array_2, stats.norm.pdf(normal_array_2, 0, math.sqrt(var_2)))\n",
        "plt.show()"
      ],
      "execution_count": null,
      "outputs": [
        {
          "output_type": "display_data",
          "data": {
            "image/png": "[encoded data removed]",
            "text/plain": [
              "<Figure size 432x288 with 1 Axes>"
            ]
          },
          "metadata": {
            "tags": []
          }
        }
      ]
    },
    {
      "cell_type": "code",
      "metadata": {
        "id": "5jHqVrEd89Y7",
        "colab_type": "code",
        "colab": {
          "base_uri": "https://localhost:8080/",
          "height": 34
        },
        "outputId": "c4f649f8-63f1-490e-cd76-559d4c85ee3e"
      },
      "source": [
        "diff_ratio = pd.DataFrame(np.nan, index=np.arange(1000000), columns=np.arange(1000))\n",
        "t2 = time.time()\n",
        "t2 - t1"
      ],
      "execution_count": null,
      "outputs": [
        {
          "output_type": "execute_result",
          "data": {
            "text/plain": [
              "145.24126148223877"
            ]
          },
          "metadata": {
            "tags": []
          },
          "execution_count": 4
        }
      ]
    },
    {
      "cell_type": "code",
      "metadata": {
        "id": "UtU8fZX--LYN",
        "colab_type": "code",
        "colab": {}
      },
      "source": [
        "# diff_ratio"
      ],
      "execution_count": null,
      "outputs": []
    },
    {
      "cell_type": "code",
      "metadata": {
        "id": "LboeRIHk8_zt",
        "colab_type": "code",
        "colab": {
          "base_uri": "https://localhost:8080/",
          "height": 34
        },
        "outputId": "fdc924bf-951a-4e16-f6e3-929489b27217"
      },
      "source": [
        "t3 = time.time()\n",
        "for i in range(1, 1001):\n",
        "\tdata1_temp = data1['Close'].shift(i)\n",
        "\tdiff_temp = (data1['Close'] - data1_temp)/data1_temp\n",
        "\tdiff_ratio.loc[:][i-1] = diff_temp\n",
        "t4 = time.time()\n",
        "t4 - t3"
      ],
      "execution_count": null,
      "outputs": [
        {
          "output_type": "execute_result",
          "data": {
            "text/plain": [
              "29.18287467956543"
            ]
          },
          "metadata": {
            "tags": []
          },
          "execution_count": 5
        }
      ]
    },
    {
      "cell_type": "code",
      "metadata": {
        "id": "fCV-Fn9P-QSV",
        "colab_type": "code",
        "colab": {
          "base_uri": "https://localhost:8080/",
          "height": 439
        },
        "outputId": "16c23815-9975-44d8-870e-3f3246c9416d"
      },
      "source": [
        "diff_ratio"
      ],
      "execution_count": null,
      "outputs": [
        {
          "output_type": "execute_result",
          "data": {
            "text/html": [
              "<div>\n",
              "<style scoped>\n",
              "    .dataframe tbody tr th:only-of-type {\n",
              "        vertical-align: middle;\n",
              "    }\n",
              "\n",
              "    .dataframe tbody tr th {\n",
              "        vertical-align: top;\n",
              "    }\n",
              "\n",
              "    .dataframe thead th {\n",
              "        text-align: right;\n",
              "    }\n",
              "</style>\n",
              "<table border=\"1\" class=\"dataframe\">\n",
              "  <thead>\n",
              "    <tr style=\"text-align: right;\">\n",
              "      <th></th>\n",
              "      <th>0</th>\n",
              "      <th>1</th>\n",
              "      <th>2</th>\n",
              "      <th>3</th>\n",
              "      <th>4</th>\n",
              "      <th>5</th>\n",
              "      <th>6</th>\n",
              "      <th>7</th>\n",
              "      <th>8</th>\n",
              "      <th>9</th>\n",
              "      <th>10</th>\n",
              "      <th>11</th>\n",
              "      <th>12</th>\n",
              "      <th>13</th>\n",
              "      <th>14</th>\n",
              "      <th>15</th>\n",
              "      <th>16</th>\n",
              "      <th>17</th>\n",
              "      <th>18</th>\n",
              "      <th>19</th>\n",
              "      <th>20</th>\n",
              "      <th>21</th>\n",
              "      <th>22</th>\n",
              "      <th>23</th>\n",
              "      <th>24</th>\n",
              "      <th>25</th>\n",
              "      <th>26</th>\n",
              "      <th>27</th>\n",
              "      <th>28</th>\n",
              "      <th>29</th>\n",
              "      <th>30</th>\n",
              "      <th>31</th>\n",
              "      <th>32</th>\n",
              "      <th>33</th>\n",
              "      <th>34</th>\n",
              "      <th>35</th>\n",
              "      <th>36</th>\n",
              "      <th>37</th>\n",
              "      <th>38</th>\n",
              "      <th>39</th>\n",
              "      <th>...</th>\n",
              "      <th>960</th>\n",
              "      <th>961</th>\n",
              "      <th>962</th>\n",
              "      <th>963</th>\n",
              "      <th>964</th>\n",
              "      <th>965</th>\n",
              "      <th>966</th>\n",
              "      <th>967</th>\n",
              "      <th>968</th>\n",
              "      <th>969</th>\n",
              "      <th>970</th>\n",
              "      <th>971</th>\n",
              "      <th>972</th>\n",
              "      <th>973</th>\n",
              "      <th>974</th>\n",
              "      <th>975</th>\n",
              "      <th>976</th>\n",
              "      <th>977</th>\n",
              "      <th>978</th>\n",
              "      <th>979</th>\n",
              "      <th>980</th>\n",
              "      <th>981</th>\n",
              "      <th>982</th>\n",
              "      <th>983</th>\n",
              "      <th>984</th>\n",
              "      <th>985</th>\n",
              "      <th>986</th>\n",
              "      <th>987</th>\n",
              "      <th>988</th>\n",
              "      <th>989</th>\n",
              "      <th>990</th>\n",
              "      <th>991</th>\n",
              "      <th>992</th>\n",
              "      <th>993</th>\n",
              "      <th>994</th>\n",
              "      <th>995</th>\n",
              "      <th>996</th>\n",
              "      <th>997</th>\n",
              "      <th>998</th>\n",
              "      <th>999</th>\n",
              "    </tr>\n",
              "  </thead>\n",
              "  <tbody>\n",
              "    <tr>\n",
              "      <th>0</th>\n",
              "      <td>NaN</td>\n",
              "      <td>NaN</td>\n",
              "      <td>NaN</td>\n",
              "      <td>NaN</td>\n",
              "      <td>NaN</td>\n",
              "      <td>NaN</td>\n",
              "      <td>NaN</td>\n",
              "      <td>NaN</td>\n",
              "      <td>NaN</td>\n",
              "      <td>NaN</td>\n",
              "      <td>NaN</td>\n",
              "      <td>NaN</td>\n",
              "      <td>NaN</td>\n",
              "      <td>NaN</td>\n",
              "      <td>NaN</td>\n",
              "      <td>NaN</td>\n",
              "      <td>NaN</td>\n",
              "      <td>NaN</td>\n",
              "      <td>NaN</td>\n",
              "      <td>NaN</td>\n",
              "      <td>NaN</td>\n",
              "      <td>NaN</td>\n",
              "      <td>NaN</td>\n",
              "      <td>NaN</td>\n",
              "      <td>NaN</td>\n",
              "      <td>NaN</td>\n",
              "      <td>NaN</td>\n",
              "      <td>NaN</td>\n",
              "      <td>NaN</td>\n",
              "      <td>NaN</td>\n",
              "      <td>NaN</td>\n",
              "      <td>NaN</td>\n",
              "      <td>NaN</td>\n",
              "      <td>NaN</td>\n",
              "      <td>NaN</td>\n",
              "      <td>NaN</td>\n",
              "      <td>NaN</td>\n",
              "      <td>NaN</td>\n",
              "      <td>NaN</td>\n",
              "      <td>NaN</td>\n",
              "      <td>...</td>\n",
              "      <td>NaN</td>\n",
              "      <td>NaN</td>\n",
              "      <td>NaN</td>\n",
              "      <td>NaN</td>\n",
              "      <td>NaN</td>\n",
              "      <td>NaN</td>\n",
              "      <td>NaN</td>\n",
              "      <td>NaN</td>\n",
              "      <td>NaN</td>\n",
              "      <td>NaN</td>\n",
              "      <td>NaN</td>\n",
              "      <td>NaN</td>\n",
              "      <td>NaN</td>\n",
              "      <td>NaN</td>\n",
              "      <td>NaN</td>\n",
              "      <td>NaN</td>\n",
              "      <td>NaN</td>\n",
              "      <td>NaN</td>\n",
              "      <td>NaN</td>\n",
              "      <td>NaN</td>\n",
              "      <td>NaN</td>\n",
              "      <td>NaN</td>\n",
              "      <td>NaN</td>\n",
              "      <td>NaN</td>\n",
              "      <td>NaN</td>\n",
              "      <td>NaN</td>\n",
              "      <td>NaN</td>\n",
              "      <td>NaN</td>\n",
              "      <td>NaN</td>\n",
              "      <td>NaN</td>\n",
              "      <td>NaN</td>\n",
              "      <td>NaN</td>\n",
              "      <td>NaN</td>\n",
              "      <td>NaN</td>\n",
              "      <td>NaN</td>\n",
              "      <td>NaN</td>\n",
              "      <td>NaN</td>\n",
              "      <td>NaN</td>\n",
              "      <td>NaN</td>\n",
              "      <td>NaN</td>\n",
              "    </tr>\n",
              "    <tr>\n",
              "      <th>1</th>\n",
              "      <td>-0.000227</td>\n",
              "      <td>NaN</td>\n",
              "      <td>NaN</td>\n",
              "      <td>NaN</td>\n",
              "      <td>NaN</td>\n",
              "      <td>NaN</td>\n",
              "      <td>NaN</td>\n",
              "      <td>NaN</td>\n",
              "      <td>NaN</td>\n",
              "      <td>NaN</td>\n",
              "      <td>NaN</td>\n",
              "      <td>NaN</td>\n",
              "      <td>NaN</td>\n",
              "      <td>NaN</td>\n",
              "      <td>NaN</td>\n",
              "      <td>NaN</td>\n",
              "      <td>NaN</td>\n",
              "      <td>NaN</td>\n",
              "      <td>NaN</td>\n",
              "      <td>NaN</td>\n",
              "      <td>NaN</td>\n",
              "      <td>NaN</td>\n",
              "      <td>NaN</td>\n",
              "      <td>NaN</td>\n",
              "      <td>NaN</td>\n",
              "      <td>NaN</td>\n",
              "      <td>NaN</td>\n",
              "      <td>NaN</td>\n",
              "      <td>NaN</td>\n",
              "      <td>NaN</td>\n",
              "      <td>NaN</td>\n",
              "      <td>NaN</td>\n",
              "      <td>NaN</td>\n",
              "      <td>NaN</td>\n",
              "      <td>NaN</td>\n",
              "      <td>NaN</td>\n",
              "      <td>NaN</td>\n",
              "      <td>NaN</td>\n",
              "      <td>NaN</td>\n",
              "      <td>NaN</td>\n",
              "      <td>...</td>\n",
              "      <td>NaN</td>\n",
              "      <td>NaN</td>\n",
              "      <td>NaN</td>\n",
              "      <td>NaN</td>\n",
              "      <td>NaN</td>\n",
              "      <td>NaN</td>\n",
              "      <td>NaN</td>\n",
              "      <td>NaN</td>\n",
              "      <td>NaN</td>\n",
              "      <td>NaN</td>\n",
              "      <td>NaN</td>\n",
              "      <td>NaN</td>\n",
              "      <td>NaN</td>\n",
              "      <td>NaN</td>\n",
              "      <td>NaN</td>\n",
              "      <td>NaN</td>\n",
              "      <td>NaN</td>\n",
              "      <td>NaN</td>\n",
              "      <td>NaN</td>\n",
              "      <td>NaN</td>\n",
              "      <td>NaN</td>\n",
              "      <td>NaN</td>\n",
              "      <td>NaN</td>\n",
              "      <td>NaN</td>\n",
              "      <td>NaN</td>\n",
              "      <td>NaN</td>\n",
              "      <td>NaN</td>\n",
              "      <td>NaN</td>\n",
              "      <td>NaN</td>\n",
              "      <td>NaN</td>\n",
              "      <td>NaN</td>\n",
              "      <td>NaN</td>\n",
              "      <td>NaN</td>\n",
              "      <td>NaN</td>\n",
              "      <td>NaN</td>\n",
              "      <td>NaN</td>\n",
              "      <td>NaN</td>\n",
              "      <td>NaN</td>\n",
              "      <td>NaN</td>\n",
              "      <td>NaN</td>\n",
              "    </tr>\n",
              "    <tr>\n",
              "      <th>2</th>\n",
              "      <td>-0.000227</td>\n",
              "      <td>-0.000454</td>\n",
              "      <td>NaN</td>\n",
              "      <td>NaN</td>\n",
              "      <td>NaN</td>\n",
              "      <td>NaN</td>\n",
              "      <td>NaN</td>\n",
              "      <td>NaN</td>\n",
              "      <td>NaN</td>\n",
              "      <td>NaN</td>\n",
              "      <td>NaN</td>\n",
              "      <td>NaN</td>\n",
              "      <td>NaN</td>\n",
              "      <td>NaN</td>\n",
              "      <td>NaN</td>\n",
              "      <td>NaN</td>\n",
              "      <td>NaN</td>\n",
              "      <td>NaN</td>\n",
              "      <td>NaN</td>\n",
              "      <td>NaN</td>\n",
              "      <td>NaN</td>\n",
              "      <td>NaN</td>\n",
              "      <td>NaN</td>\n",
              "      <td>NaN</td>\n",
              "      <td>NaN</td>\n",
              "      <td>NaN</td>\n",
              "      <td>NaN</td>\n",
              "      <td>NaN</td>\n",
              "      <td>NaN</td>\n",
              "      <td>NaN</td>\n",
              "      <td>NaN</td>\n",
              "      <td>NaN</td>\n",
              "      <td>NaN</td>\n",
              "      <td>NaN</td>\n",
              "      <td>NaN</td>\n",
              "      <td>NaN</td>\n",
              "      <td>NaN</td>\n",
              "      <td>NaN</td>\n",
              "      <td>NaN</td>\n",
              "      <td>NaN</td>\n",
              "      <td>...</td>\n",
              "      <td>NaN</td>\n",
              "      <td>NaN</td>\n",
              "      <td>NaN</td>\n",
              "      <td>NaN</td>\n",
              "      <td>NaN</td>\n",
              "      <td>NaN</td>\n",
              "      <td>NaN</td>\n",
              "      <td>NaN</td>\n",
              "      <td>NaN</td>\n",
              "      <td>NaN</td>\n",
              "      <td>NaN</td>\n",
              "      <td>NaN</td>\n",
              "      <td>NaN</td>\n",
              "      <td>NaN</td>\n",
              "      <td>NaN</td>\n",
              "      <td>NaN</td>\n",
              "      <td>NaN</td>\n",
              "      <td>NaN</td>\n",
              "      <td>NaN</td>\n",
              "      <td>NaN</td>\n",
              "      <td>NaN</td>\n",
              "      <td>NaN</td>\n",
              "      <td>NaN</td>\n",
              "      <td>NaN</td>\n",
              "      <td>NaN</td>\n",
              "      <td>NaN</td>\n",
              "      <td>NaN</td>\n",
              "      <td>NaN</td>\n",
              "      <td>NaN</td>\n",
              "      <td>NaN</td>\n",
              "      <td>NaN</td>\n",
              "      <td>NaN</td>\n",
              "      <td>NaN</td>\n",
              "      <td>NaN</td>\n",
              "      <td>NaN</td>\n",
              "      <td>NaN</td>\n",
              "      <td>NaN</td>\n",
              "      <td>NaN</td>\n",
              "      <td>NaN</td>\n",
              "      <td>NaN</td>\n",
              "    </tr>\n",
              "    <tr>\n",
              "      <th>3</th>\n",
              "      <td>0.000454</td>\n",
              "      <td>0.000227</td>\n",
              "      <td>0.000000</td>\n",
              "      <td>NaN</td>\n",
              "      <td>NaN</td>\n",
              "      <td>NaN</td>\n",
              "      <td>NaN</td>\n",
              "      <td>NaN</td>\n",
              "      <td>NaN</td>\n",
              "      <td>NaN</td>\n",
              "      <td>NaN</td>\n",
              "      <td>NaN</td>\n",
              "      <td>NaN</td>\n",
              "      <td>NaN</td>\n",
              "      <td>NaN</td>\n",
              "      <td>NaN</td>\n",
              "      <td>NaN</td>\n",
              "      <td>NaN</td>\n",
              "      <td>NaN</td>\n",
              "      <td>NaN</td>\n",
              "      <td>NaN</td>\n",
              "      <td>NaN</td>\n",
              "      <td>NaN</td>\n",
              "      <td>NaN</td>\n",
              "      <td>NaN</td>\n",
              "      <td>NaN</td>\n",
              "      <td>NaN</td>\n",
              "      <td>NaN</td>\n",
              "      <td>NaN</td>\n",
              "      <td>NaN</td>\n",
              "      <td>NaN</td>\n",
              "      <td>NaN</td>\n",
              "      <td>NaN</td>\n",
              "      <td>NaN</td>\n",
              "      <td>NaN</td>\n",
              "      <td>NaN</td>\n",
              "      <td>NaN</td>\n",
              "      <td>NaN</td>\n",
              "      <td>NaN</td>\n",
              "      <td>NaN</td>\n",
              "      <td>...</td>\n",
              "      <td>NaN</td>\n",
              "      <td>NaN</td>\n",
              "      <td>NaN</td>\n",
              "      <td>NaN</td>\n",
              "      <td>NaN</td>\n",
              "      <td>NaN</td>\n",
              "      <td>NaN</td>\n",
              "      <td>NaN</td>\n",
              "      <td>NaN</td>\n",
              "      <td>NaN</td>\n",
              "      <td>NaN</td>\n",
              "      <td>NaN</td>\n",
              "      <td>NaN</td>\n",
              "      <td>NaN</td>\n",
              "      <td>NaN</td>\n",
              "      <td>NaN</td>\n",
              "      <td>NaN</td>\n",
              "      <td>NaN</td>\n",
              "      <td>NaN</td>\n",
              "      <td>NaN</td>\n",
              "      <td>NaN</td>\n",
              "      <td>NaN</td>\n",
              "      <td>NaN</td>\n",
              "      <td>NaN</td>\n",
              "      <td>NaN</td>\n",
              "      <td>NaN</td>\n",
              "      <td>NaN</td>\n",
              "      <td>NaN</td>\n",
              "      <td>NaN</td>\n",
              "      <td>NaN</td>\n",
              "      <td>NaN</td>\n",
              "      <td>NaN</td>\n",
              "      <td>NaN</td>\n",
              "      <td>NaN</td>\n",
              "      <td>NaN</td>\n",
              "      <td>NaN</td>\n",
              "      <td>NaN</td>\n",
              "      <td>NaN</td>\n",
              "      <td>NaN</td>\n",
              "      <td>NaN</td>\n",
              "    </tr>\n",
              "    <tr>\n",
              "      <th>4</th>\n",
              "      <td>-0.000681</td>\n",
              "      <td>-0.000227</td>\n",
              "      <td>-0.000454</td>\n",
              "      <td>-0.000681</td>\n",
              "      <td>NaN</td>\n",
              "      <td>NaN</td>\n",
              "      <td>NaN</td>\n",
              "      <td>NaN</td>\n",
              "      <td>NaN</td>\n",
              "      <td>NaN</td>\n",
              "      <td>NaN</td>\n",
              "      <td>NaN</td>\n",
              "      <td>NaN</td>\n",
              "      <td>NaN</td>\n",
              "      <td>NaN</td>\n",
              "      <td>NaN</td>\n",
              "      <td>NaN</td>\n",
              "      <td>NaN</td>\n",
              "      <td>NaN</td>\n",
              "      <td>NaN</td>\n",
              "      <td>NaN</td>\n",
              "      <td>NaN</td>\n",
              "      <td>NaN</td>\n",
              "      <td>NaN</td>\n",
              "      <td>NaN</td>\n",
              "      <td>NaN</td>\n",
              "      <td>NaN</td>\n",
              "      <td>NaN</td>\n",
              "      <td>NaN</td>\n",
              "      <td>NaN</td>\n",
              "      <td>NaN</td>\n",
              "      <td>NaN</td>\n",
              "      <td>NaN</td>\n",
              "      <td>NaN</td>\n",
              "      <td>NaN</td>\n",
              "      <td>NaN</td>\n",
              "      <td>NaN</td>\n",
              "      <td>NaN</td>\n",
              "      <td>NaN</td>\n",
              "      <td>NaN</td>\n",
              "      <td>...</td>\n",
              "      <td>NaN</td>\n",
              "      <td>NaN</td>\n",
              "      <td>NaN</td>\n",
              "      <td>NaN</td>\n",
              "      <td>NaN</td>\n",
              "      <td>NaN</td>\n",
              "      <td>NaN</td>\n",
              "      <td>NaN</td>\n",
              "      <td>NaN</td>\n",
              "      <td>NaN</td>\n",
              "      <td>NaN</td>\n",
              "      <td>NaN</td>\n",
              "      <td>NaN</td>\n",
              "      <td>NaN</td>\n",
              "      <td>NaN</td>\n",
              "      <td>NaN</td>\n",
              "      <td>NaN</td>\n",
              "      <td>NaN</td>\n",
              "      <td>NaN</td>\n",
              "      <td>NaN</td>\n",
              "      <td>NaN</td>\n",
              "      <td>NaN</td>\n",
              "      <td>NaN</td>\n",
              "      <td>NaN</td>\n",
              "      <td>NaN</td>\n",
              "      <td>NaN</td>\n",
              "      <td>NaN</td>\n",
              "      <td>NaN</td>\n",
              "      <td>NaN</td>\n",
              "      <td>NaN</td>\n",
              "      <td>NaN</td>\n",
              "      <td>NaN</td>\n",
              "      <td>NaN</td>\n",
              "      <td>NaN</td>\n",
              "      <td>NaN</td>\n",
              "      <td>NaN</td>\n",
              "      <td>NaN</td>\n",
              "      <td>NaN</td>\n",
              "      <td>NaN</td>\n",
              "      <td>NaN</td>\n",
              "    </tr>\n",
              "    <tr>\n",
              "      <th>...</th>\n",
              "      <td>...</td>\n",
              "      <td>...</td>\n",
              "      <td>...</td>\n",
              "      <td>...</td>\n",
              "      <td>...</td>\n",
              "      <td>...</td>\n",
              "      <td>...</td>\n",
              "      <td>...</td>\n",
              "      <td>...</td>\n",
              "      <td>...</td>\n",
              "      <td>...</td>\n",
              "      <td>...</td>\n",
              "      <td>...</td>\n",
              "      <td>...</td>\n",
              "      <td>...</td>\n",
              "      <td>...</td>\n",
              "      <td>...</td>\n",
              "      <td>...</td>\n",
              "      <td>...</td>\n",
              "      <td>...</td>\n",
              "      <td>...</td>\n",
              "      <td>...</td>\n",
              "      <td>...</td>\n",
              "      <td>...</td>\n",
              "      <td>...</td>\n",
              "      <td>...</td>\n",
              "      <td>...</td>\n",
              "      <td>...</td>\n",
              "      <td>...</td>\n",
              "      <td>...</td>\n",
              "      <td>...</td>\n",
              "      <td>...</td>\n",
              "      <td>...</td>\n",
              "      <td>...</td>\n",
              "      <td>...</td>\n",
              "      <td>...</td>\n",
              "      <td>...</td>\n",
              "      <td>...</td>\n",
              "      <td>...</td>\n",
              "      <td>...</td>\n",
              "      <td>...</td>\n",
              "      <td>...</td>\n",
              "      <td>...</td>\n",
              "      <td>...</td>\n",
              "      <td>...</td>\n",
              "      <td>...</td>\n",
              "      <td>...</td>\n",
              "      <td>...</td>\n",
              "      <td>...</td>\n",
              "      <td>...</td>\n",
              "      <td>...</td>\n",
              "      <td>...</td>\n",
              "      <td>...</td>\n",
              "      <td>...</td>\n",
              "      <td>...</td>\n",
              "      <td>...</td>\n",
              "      <td>...</td>\n",
              "      <td>...</td>\n",
              "      <td>...</td>\n",
              "      <td>...</td>\n",
              "      <td>...</td>\n",
              "      <td>...</td>\n",
              "      <td>...</td>\n",
              "      <td>...</td>\n",
              "      <td>...</td>\n",
              "      <td>...</td>\n",
              "      <td>...</td>\n",
              "      <td>...</td>\n",
              "      <td>...</td>\n",
              "      <td>...</td>\n",
              "      <td>...</td>\n",
              "      <td>...</td>\n",
              "      <td>...</td>\n",
              "      <td>...</td>\n",
              "      <td>...</td>\n",
              "      <td>...</td>\n",
              "      <td>...</td>\n",
              "      <td>...</td>\n",
              "      <td>...</td>\n",
              "      <td>...</td>\n",
              "      <td>...</td>\n",
              "    </tr>\n",
              "    <tr>\n",
              "      <th>999995</th>\n",
              "      <td>0.000184</td>\n",
              "      <td>-0.000184</td>\n",
              "      <td>0.000184</td>\n",
              "      <td>0.001107</td>\n",
              "      <td>0.001107</td>\n",
              "      <td>0.000000</td>\n",
              "      <td>0.000184</td>\n",
              "      <td>-0.000368</td>\n",
              "      <td>-0.000552</td>\n",
              "      <td>-0.000552</td>\n",
              "      <td>-0.000368</td>\n",
              "      <td>-0.000184</td>\n",
              "      <td>-0.000368</td>\n",
              "      <td>0.000000</td>\n",
              "      <td>-0.000184</td>\n",
              "      <td>-0.000552</td>\n",
              "      <td>-0.000368</td>\n",
              "      <td>0.000000</td>\n",
              "      <td>0.000000</td>\n",
              "      <td>-0.000737</td>\n",
              "      <td>0.000000</td>\n",
              "      <td>0.000922</td>\n",
              "      <td>0.001292</td>\n",
              "      <td>0.000000</td>\n",
              "      <td>0.001292</td>\n",
              "      <td>0.000000</td>\n",
              "      <td>-0.000368</td>\n",
              "      <td>-0.001472</td>\n",
              "      <td>-0.001656</td>\n",
              "      <td>-0.001656</td>\n",
              "      <td>-0.002390</td>\n",
              "      <td>-0.002756</td>\n",
              "      <td>-0.002206</td>\n",
              "      <td>-0.002573</td>\n",
              "      <td>-0.002940</td>\n",
              "      <td>-0.003672</td>\n",
              "      <td>-0.003672</td>\n",
              "      <td>-0.004585</td>\n",
              "      <td>-0.004403</td>\n",
              "      <td>-0.004585</td>\n",
              "      <td>...</td>\n",
              "      <td>0.006491</td>\n",
              "      <td>0.006304</td>\n",
              "      <td>0.006118</td>\n",
              "      <td>0.006678</td>\n",
              "      <td>0.007238</td>\n",
              "      <td>0.008361</td>\n",
              "      <td>0.008361</td>\n",
              "      <td>0.007987</td>\n",
              "      <td>0.007612</td>\n",
              "      <td>0.007425</td>\n",
              "      <td>0.007987</td>\n",
              "      <td>0.007799</td>\n",
              "      <td>0.007799</td>\n",
              "      <td>0.007799</td>\n",
              "      <td>0.008174</td>\n",
              "      <td>0.008736</td>\n",
              "      <td>0.008549</td>\n",
              "      <td>0.008361</td>\n",
              "      <td>0.008736</td>\n",
              "      <td>0.008736</td>\n",
              "      <td>0.009111</td>\n",
              "      <td>0.008549</td>\n",
              "      <td>0.008549</td>\n",
              "      <td>0.008361</td>\n",
              "      <td>0.007799</td>\n",
              "      <td>0.007987</td>\n",
              "      <td>0.007987</td>\n",
              "      <td>0.008361</td>\n",
              "      <td>0.007987</td>\n",
              "      <td>0.007987</td>\n",
              "      <td>0.007238</td>\n",
              "      <td>0.007238</td>\n",
              "      <td>0.007238</td>\n",
              "      <td>0.007238</td>\n",
              "      <td>0.007051</td>\n",
              "      <td>0.006865</td>\n",
              "      <td>0.006865</td>\n",
              "      <td>0.007051</td>\n",
              "      <td>0.006865</td>\n",
              "      <td>0.006678</td>\n",
              "    </tr>\n",
              "    <tr>\n",
              "      <th>999996</th>\n",
              "      <td>0.000184</td>\n",
              "      <td>0.000369</td>\n",
              "      <td>0.000000</td>\n",
              "      <td>0.000369</td>\n",
              "      <td>0.001291</td>\n",
              "      <td>0.001291</td>\n",
              "      <td>0.000184</td>\n",
              "      <td>0.000369</td>\n",
              "      <td>-0.000184</td>\n",
              "      <td>-0.000368</td>\n",
              "      <td>-0.000368</td>\n",
              "      <td>-0.000184</td>\n",
              "      <td>0.000000</td>\n",
              "      <td>-0.000184</td>\n",
              "      <td>0.000184</td>\n",
              "      <td>0.000000</td>\n",
              "      <td>-0.000368</td>\n",
              "      <td>-0.000184</td>\n",
              "      <td>0.000184</td>\n",
              "      <td>0.000184</td>\n",
              "      <td>-0.000552</td>\n",
              "      <td>0.000184</td>\n",
              "      <td>0.001107</td>\n",
              "      <td>0.001476</td>\n",
              "      <td>0.000184</td>\n",
              "      <td>0.001476</td>\n",
              "      <td>0.000184</td>\n",
              "      <td>-0.000184</td>\n",
              "      <td>-0.001288</td>\n",
              "      <td>-0.001472</td>\n",
              "      <td>-0.001472</td>\n",
              "      <td>-0.002206</td>\n",
              "      <td>-0.002573</td>\n",
              "      <td>-0.002022</td>\n",
              "      <td>-0.002389</td>\n",
              "      <td>-0.002756</td>\n",
              "      <td>-0.003488</td>\n",
              "      <td>-0.003488</td>\n",
              "      <td>-0.004402</td>\n",
              "      <td>-0.004219</td>\n",
              "      <td>...</td>\n",
              "      <td>0.006490</td>\n",
              "      <td>0.006677</td>\n",
              "      <td>0.006490</td>\n",
              "      <td>0.006303</td>\n",
              "      <td>0.006863</td>\n",
              "      <td>0.007424</td>\n",
              "      <td>0.008547</td>\n",
              "      <td>0.008547</td>\n",
              "      <td>0.008172</td>\n",
              "      <td>0.007798</td>\n",
              "      <td>0.007611</td>\n",
              "      <td>0.008172</td>\n",
              "      <td>0.007985</td>\n",
              "      <td>0.007985</td>\n",
              "      <td>0.007985</td>\n",
              "      <td>0.008360</td>\n",
              "      <td>0.008922</td>\n",
              "      <td>0.008734</td>\n",
              "      <td>0.008547</td>\n",
              "      <td>0.008922</td>\n",
              "      <td>0.008922</td>\n",
              "      <td>0.009297</td>\n",
              "      <td>0.008734</td>\n",
              "      <td>0.008734</td>\n",
              "      <td>0.008547</td>\n",
              "      <td>0.007985</td>\n",
              "      <td>0.008172</td>\n",
              "      <td>0.008172</td>\n",
              "      <td>0.008547</td>\n",
              "      <td>0.008172</td>\n",
              "      <td>0.008172</td>\n",
              "      <td>0.007424</td>\n",
              "      <td>0.007424</td>\n",
              "      <td>0.007424</td>\n",
              "      <td>0.007424</td>\n",
              "      <td>0.007237</td>\n",
              "      <td>0.007050</td>\n",
              "      <td>0.007050</td>\n",
              "      <td>0.007237</td>\n",
              "      <td>0.007050</td>\n",
              "    </tr>\n",
              "    <tr>\n",
              "      <th>999997</th>\n",
              "      <td>0.001474</td>\n",
              "      <td>0.001658</td>\n",
              "      <td>0.001843</td>\n",
              "      <td>0.001474</td>\n",
              "      <td>0.001843</td>\n",
              "      <td>0.002767</td>\n",
              "      <td>0.002767</td>\n",
              "      <td>0.001658</td>\n",
              "      <td>0.001843</td>\n",
              "      <td>0.001289</td>\n",
              "      <td>0.001105</td>\n",
              "      <td>0.001105</td>\n",
              "      <td>0.001289</td>\n",
              "      <td>0.001474</td>\n",
              "      <td>0.001289</td>\n",
              "      <td>0.001658</td>\n",
              "      <td>0.001474</td>\n",
              "      <td>0.001105</td>\n",
              "      <td>0.001289</td>\n",
              "      <td>0.001658</td>\n",
              "      <td>0.001658</td>\n",
              "      <td>0.000921</td>\n",
              "      <td>0.001658</td>\n",
              "      <td>0.002582</td>\n",
              "      <td>0.002952</td>\n",
              "      <td>0.001658</td>\n",
              "      <td>0.002952</td>\n",
              "      <td>0.001658</td>\n",
              "      <td>0.001289</td>\n",
              "      <td>0.000184</td>\n",
              "      <td>0.000000</td>\n",
              "      <td>0.000000</td>\n",
              "      <td>-0.000735</td>\n",
              "      <td>-0.001103</td>\n",
              "      <td>-0.000552</td>\n",
              "      <td>-0.000919</td>\n",
              "      <td>-0.001286</td>\n",
              "      <td>-0.002019</td>\n",
              "      <td>-0.002019</td>\n",
              "      <td>-0.002935</td>\n",
              "      <td>...</td>\n",
              "      <td>0.007413</td>\n",
              "      <td>0.007973</td>\n",
              "      <td>0.008160</td>\n",
              "      <td>0.007973</td>\n",
              "      <td>0.007786</td>\n",
              "      <td>0.008347</td>\n",
              "      <td>0.008909</td>\n",
              "      <td>0.010033</td>\n",
              "      <td>0.010033</td>\n",
              "      <td>0.009658</td>\n",
              "      <td>0.009283</td>\n",
              "      <td>0.009096</td>\n",
              "      <td>0.009658</td>\n",
              "      <td>0.009471</td>\n",
              "      <td>0.009471</td>\n",
              "      <td>0.009471</td>\n",
              "      <td>0.009846</td>\n",
              "      <td>0.010409</td>\n",
              "      <td>0.010221</td>\n",
              "      <td>0.010033</td>\n",
              "      <td>0.010409</td>\n",
              "      <td>0.010409</td>\n",
              "      <td>0.010785</td>\n",
              "      <td>0.010221</td>\n",
              "      <td>0.010221</td>\n",
              "      <td>0.010033</td>\n",
              "      <td>0.009471</td>\n",
              "      <td>0.009658</td>\n",
              "      <td>0.009658</td>\n",
              "      <td>0.010033</td>\n",
              "      <td>0.009658</td>\n",
              "      <td>0.009658</td>\n",
              "      <td>0.008909</td>\n",
              "      <td>0.008909</td>\n",
              "      <td>0.008909</td>\n",
              "      <td>0.008909</td>\n",
              "      <td>0.008721</td>\n",
              "      <td>0.008534</td>\n",
              "      <td>0.008534</td>\n",
              "      <td>0.008721</td>\n",
              "    </tr>\n",
              "    <tr>\n",
              "      <th>999998</th>\n",
              "      <td>-0.000368</td>\n",
              "      <td>0.001105</td>\n",
              "      <td>0.001290</td>\n",
              "      <td>0.001474</td>\n",
              "      <td>0.001105</td>\n",
              "      <td>0.001474</td>\n",
              "      <td>0.002398</td>\n",
              "      <td>0.002398</td>\n",
              "      <td>0.001290</td>\n",
              "      <td>0.001474</td>\n",
              "      <td>0.000921</td>\n",
              "      <td>0.000737</td>\n",
              "      <td>0.000737</td>\n",
              "      <td>0.000921</td>\n",
              "      <td>0.001105</td>\n",
              "      <td>0.000921</td>\n",
              "      <td>0.001290</td>\n",
              "      <td>0.001105</td>\n",
              "      <td>0.000737</td>\n",
              "      <td>0.000921</td>\n",
              "      <td>0.001290</td>\n",
              "      <td>0.001290</td>\n",
              "      <td>0.000552</td>\n",
              "      <td>0.001290</td>\n",
              "      <td>0.002213</td>\n",
              "      <td>0.002583</td>\n",
              "      <td>0.001290</td>\n",
              "      <td>0.002583</td>\n",
              "      <td>0.001290</td>\n",
              "      <td>0.000921</td>\n",
              "      <td>-0.000184</td>\n",
              "      <td>-0.000368</td>\n",
              "      <td>-0.000368</td>\n",
              "      <td>-0.001103</td>\n",
              "      <td>-0.001470</td>\n",
              "      <td>-0.000919</td>\n",
              "      <td>-0.001287</td>\n",
              "      <td>-0.001653</td>\n",
              "      <td>-0.002387</td>\n",
              "      <td>-0.002387</td>\n",
              "      <td>...</td>\n",
              "      <td>0.006856</td>\n",
              "      <td>0.007042</td>\n",
              "      <td>0.007602</td>\n",
              "      <td>0.007789</td>\n",
              "      <td>0.007602</td>\n",
              "      <td>0.007416</td>\n",
              "      <td>0.007976</td>\n",
              "      <td>0.008537</td>\n",
              "      <td>0.009662</td>\n",
              "      <td>0.009662</td>\n",
              "      <td>0.009287</td>\n",
              "      <td>0.008912</td>\n",
              "      <td>0.008725</td>\n",
              "      <td>0.009287</td>\n",
              "      <td>0.009099</td>\n",
              "      <td>0.009099</td>\n",
              "      <td>0.009099</td>\n",
              "      <td>0.009474</td>\n",
              "      <td>0.010037</td>\n",
              "      <td>0.009849</td>\n",
              "      <td>0.009662</td>\n",
              "      <td>0.010037</td>\n",
              "      <td>0.010037</td>\n",
              "      <td>0.010413</td>\n",
              "      <td>0.009849</td>\n",
              "      <td>0.009849</td>\n",
              "      <td>0.009662</td>\n",
              "      <td>0.009099</td>\n",
              "      <td>0.009287</td>\n",
              "      <td>0.009287</td>\n",
              "      <td>0.009662</td>\n",
              "      <td>0.009287</td>\n",
              "      <td>0.009287</td>\n",
              "      <td>0.008537</td>\n",
              "      <td>0.008537</td>\n",
              "      <td>0.008537</td>\n",
              "      <td>0.008537</td>\n",
              "      <td>0.008350</td>\n",
              "      <td>0.008163</td>\n",
              "      <td>0.008163</td>\n",
              "    </tr>\n",
              "    <tr>\n",
              "      <th>999999</th>\n",
              "      <td>0.000000</td>\n",
              "      <td>-0.000368</td>\n",
              "      <td>0.001105</td>\n",
              "      <td>0.001290</td>\n",
              "      <td>0.001474</td>\n",
              "      <td>0.001105</td>\n",
              "      <td>0.001474</td>\n",
              "      <td>0.002398</td>\n",
              "      <td>0.002398</td>\n",
              "      <td>0.001290</td>\n",
              "      <td>0.001474</td>\n",
              "      <td>0.000921</td>\n",
              "      <td>0.000737</td>\n",
              "      <td>0.000737</td>\n",
              "      <td>0.000921</td>\n",
              "      <td>0.001105</td>\n",
              "      <td>0.000921</td>\n",
              "      <td>0.001290</td>\n",
              "      <td>0.001105</td>\n",
              "      <td>0.000737</td>\n",
              "      <td>0.000921</td>\n",
              "      <td>0.001290</td>\n",
              "      <td>0.001290</td>\n",
              "      <td>0.000552</td>\n",
              "      <td>0.001290</td>\n",
              "      <td>0.002213</td>\n",
              "      <td>0.002583</td>\n",
              "      <td>0.001290</td>\n",
              "      <td>0.002583</td>\n",
              "      <td>0.001290</td>\n",
              "      <td>0.000921</td>\n",
              "      <td>-0.000184</td>\n",
              "      <td>-0.000368</td>\n",
              "      <td>-0.000368</td>\n",
              "      <td>-0.001103</td>\n",
              "      <td>-0.001470</td>\n",
              "      <td>-0.000919</td>\n",
              "      <td>-0.001287</td>\n",
              "      <td>-0.001653</td>\n",
              "      <td>-0.002387</td>\n",
              "      <td>...</td>\n",
              "      <td>0.006856</td>\n",
              "      <td>0.006856</td>\n",
              "      <td>0.007042</td>\n",
              "      <td>0.007602</td>\n",
              "      <td>0.007789</td>\n",
              "      <td>0.007602</td>\n",
              "      <td>0.007416</td>\n",
              "      <td>0.007976</td>\n",
              "      <td>0.008537</td>\n",
              "      <td>0.009662</td>\n",
              "      <td>0.009662</td>\n",
              "      <td>0.009287</td>\n",
              "      <td>0.008912</td>\n",
              "      <td>0.008725</td>\n",
              "      <td>0.009287</td>\n",
              "      <td>0.009099</td>\n",
              "      <td>0.009099</td>\n",
              "      <td>0.009099</td>\n",
              "      <td>0.009474</td>\n",
              "      <td>0.010037</td>\n",
              "      <td>0.009849</td>\n",
              "      <td>0.009662</td>\n",
              "      <td>0.010037</td>\n",
              "      <td>0.010037</td>\n",
              "      <td>0.010413</td>\n",
              "      <td>0.009849</td>\n",
              "      <td>0.009849</td>\n",
              "      <td>0.009662</td>\n",
              "      <td>0.009099</td>\n",
              "      <td>0.009287</td>\n",
              "      <td>0.009287</td>\n",
              "      <td>0.009662</td>\n",
              "      <td>0.009287</td>\n",
              "      <td>0.009287</td>\n",
              "      <td>0.008537</td>\n",
              "      <td>0.008537</td>\n",
              "      <td>0.008537</td>\n",
              "      <td>0.008537</td>\n",
              "      <td>0.008350</td>\n",
              "      <td>0.008163</td>\n",
              "    </tr>\n",
              "  </tbody>\n",
              "</table>\n",
              "<p>1000000 rows × 1000 columns</p>\n",
              "</div>"
            ],
            "text/plain": [
              "             0         1         2    ...       997       998       999\n",
              "0            NaN       NaN       NaN  ...       NaN       NaN       NaN\n",
              "1      -0.000227       NaN       NaN  ...       NaN       NaN       NaN\n",
              "2      -0.000227 -0.000454       NaN  ...       NaN       NaN       NaN\n",
              "3       0.000454  0.000227  0.000000  ...       NaN       NaN       NaN\n",
              "4      -0.000681 -0.000227 -0.000454  ...       NaN       NaN       NaN\n",
              "...          ...       ...       ...  ...       ...       ...       ...\n",
              "999995  0.000184 -0.000184  0.000184  ...  0.007051  0.006865  0.006678\n",
              "999996  0.000184  0.000369  0.000000  ...  0.007050  0.007237  0.007050\n",
              "999997  0.001474  0.001658  0.001843  ...  0.008534  0.008534  0.008721\n",
              "999998 -0.000368  0.001105  0.001290  ...  0.008350  0.008163  0.008163\n",
              "999999  0.000000 -0.000368  0.001105  ...  0.008537  0.008350  0.008163\n",
              "\n",
              "[1000000 rows x 1000 columns]"
            ]
          },
          "metadata": {
            "tags": []
          },
          "execution_count": 6
        }
      ]
    },
    {
      "cell_type": "code",
      "metadata": {
        "id": "FtXQ0M82-V4f",
        "colab_type": "code",
        "colab": {}
      },
      "source": [
        "sigma_tau = np.std(diff_ratio, axis=0)"
      ],
      "execution_count": null,
      "outputs": []
    },
    {
      "cell_type": "code",
      "metadata": {
        "id": "w_QvCYxS-fFQ",
        "colab_type": "code",
        "colab": {
          "base_uri": "https://localhost:8080/",
          "height": 221
        },
        "outputId": "518fd8cc-a55b-47fc-ec58-6e91f1477202"
      },
      "source": [
        "sigma_tau"
      ],
      "execution_count": null,
      "outputs": [
        {
          "output_type": "execute_result",
          "data": {
            "text/plain": [
              "0      0.000582\n",
              "1      0.000821\n",
              "2      0.001005\n",
              "3      0.001158\n",
              "4      0.001289\n",
              "         ...   \n",
              "995    0.017498\n",
              "996    0.017506\n",
              "997    0.017514\n",
              "998    0.017522\n",
              "999    0.017531\n",
              "Length: 1000, dtype: float64"
            ]
          },
          "metadata": {
            "tags": []
          },
          "execution_count": 8
        }
      ]
    },
    {
      "cell_type": "code",
      "metadata": {
        "id": "bZ7P54yJGB6Y",
        "colab_type": "code",
        "colab": {}
      },
      "source": [
        "from sklearn import preprocessing"
      ],
      "execution_count": null,
      "outputs": []
    },
    {
      "cell_type": "code",
      "metadata": {
        "id": "poaL6TWrDZtB",
        "colab_type": "code",
        "colab": {
          "base_uri": "https://localhost:8080/",
          "height": 34
        },
        "outputId": "77d73207-eca9-45f2-d070-f82113febea4"
      },
      "source": [
        "print(type(sigma_tau))"
      ],
      "execution_count": null,
      "outputs": [
        {
          "output_type": "stream",
          "text": [
            "<class 'pandas.core.series.Series'>\n"
          ],
          "name": "stdout"
        }
      ]
    },
    {
      "cell_type": "code",
      "metadata": {
        "id": "fkewtbj5GiCq",
        "colab_type": "code",
        "colab": {}
      },
      "source": [
        "x = sigma_tau.to_frame()"
      ],
      "execution_count": null,
      "outputs": []
    },
    {
      "cell_type": "code",
      "metadata": {
        "id": "Y3S0S9WiGyQk",
        "colab_type": "code",
        "colab": {
          "base_uri": "https://localhost:8080/",
          "height": 34
        },
        "outputId": "ff046419-fe9a-49ea-9f59-8675c6e56995"
      },
      "source": [
        "print(x.shape)"
      ],
      "execution_count": null,
      "outputs": [
        {
          "output_type": "stream",
          "text": [
            "(1000, 1)\n"
          ],
          "name": "stdout"
        }
      ]
    },
    {
      "cell_type": "code",
      "metadata": {
        "id": "AGt2HcfAG8Rj",
        "colab_type": "code",
        "colab": {
          "base_uri": "https://localhost:8080/",
          "height": 419
        },
        "outputId": "721f62cc-1a34-4375-bf07-46389dbe661c"
      },
      "source": [
        "x"
      ],
      "execution_count": null,
      "outputs": [
        {
          "output_type": "execute_result",
          "data": {
            "text/html": [
              "<div>\n",
              "<style scoped>\n",
              "    .dataframe tbody tr th:only-of-type {\n",
              "        vertical-align: middle;\n",
              "    }\n",
              "\n",
              "    .dataframe tbody tr th {\n",
              "        vertical-align: top;\n",
              "    }\n",
              "\n",
              "    .dataframe thead th {\n",
              "        text-align: right;\n",
              "    }\n",
              "</style>\n",
              "<table border=\"1\" class=\"dataframe\">\n",
              "  <thead>\n",
              "    <tr style=\"text-align: right;\">\n",
              "      <th></th>\n",
              "      <th>0</th>\n",
              "    </tr>\n",
              "  </thead>\n",
              "  <tbody>\n",
              "    <tr>\n",
              "      <th>0</th>\n",
              "      <td>0.000582</td>\n",
              "    </tr>\n",
              "    <tr>\n",
              "      <th>1</th>\n",
              "      <td>0.000821</td>\n",
              "    </tr>\n",
              "    <tr>\n",
              "      <th>2</th>\n",
              "      <td>0.001005</td>\n",
              "    </tr>\n",
              "    <tr>\n",
              "      <th>3</th>\n",
              "      <td>0.001158</td>\n",
              "    </tr>\n",
              "    <tr>\n",
              "      <th>4</th>\n",
              "      <td>0.001289</td>\n",
              "    </tr>\n",
              "    <tr>\n",
              "      <th>...</th>\n",
              "      <td>...</td>\n",
              "    </tr>\n",
              "    <tr>\n",
              "      <th>995</th>\n",
              "      <td>0.017498</td>\n",
              "    </tr>\n",
              "    <tr>\n",
              "      <th>996</th>\n",
              "      <td>0.017506</td>\n",
              "    </tr>\n",
              "    <tr>\n",
              "      <th>997</th>\n",
              "      <td>0.017514</td>\n",
              "    </tr>\n",
              "    <tr>\n",
              "      <th>998</th>\n",
              "      <td>0.017522</td>\n",
              "    </tr>\n",
              "    <tr>\n",
              "      <th>999</th>\n",
              "      <td>0.017531</td>\n",
              "    </tr>\n",
              "  </tbody>\n",
              "</table>\n",
              "<p>1000 rows × 1 columns</p>\n",
              "</div>"
            ],
            "text/plain": [
              "            0\n",
              "0    0.000582\n",
              "1    0.000821\n",
              "2    0.001005\n",
              "3    0.001158\n",
              "4    0.001289\n",
              "..        ...\n",
              "995  0.017498\n",
              "996  0.017506\n",
              "997  0.017514\n",
              "998  0.017522\n",
              "999  0.017531\n",
              "\n",
              "[1000 rows x 1 columns]"
            ]
          },
          "metadata": {
            "tags": []
          },
          "execution_count": 19
        }
      ]
    },
    {
      "cell_type": "code",
      "metadata": {
        "id": "UhQv34h_Fmra",
        "colab_type": "code",
        "colab": {}
      },
      "source": [
        "# x = df[['score']].values.astype(float)\n",
        "\n",
        "# # Create a minimum and maximum processor object\n",
        "min_max_scaler = preprocessing.MinMaxScaler()\n",
        "\n",
        "# Create an object to transform the data to fit minmax processor\n",
        "x_scaled = min_max_scaler.fit_transform(x)\n",
        "\n",
        "# Run the normalizer on the dataframe\n",
        "df_normalized = pd.DataFrame(x_scaled)"
      ],
      "execution_count": null,
      "outputs": []
    },
    {
      "cell_type": "code",
      "metadata": {
        "id": "DVPFODw3HAIu",
        "colab_type": "code",
        "colab": {
          "base_uri": "https://localhost:8080/",
          "height": 419
        },
        "outputId": "2a858ff0-1a92-4d07-fc9b-09c8ce635548"
      },
      "source": [
        "df_normalized"
      ],
      "execution_count": null,
      "outputs": [
        {
          "output_type": "execute_result",
          "data": {
            "text/html": [
              "<div>\n",
              "<style scoped>\n",
              "    .dataframe tbody tr th:only-of-type {\n",
              "        vertical-align: middle;\n",
              "    }\n",
              "\n",
              "    .dataframe tbody tr th {\n",
              "        vertical-align: top;\n",
              "    }\n",
              "\n",
              "    .dataframe thead th {\n",
              "        text-align: right;\n",
              "    }\n",
              "</style>\n",
              "<table border=\"1\" class=\"dataframe\">\n",
              "  <thead>\n",
              "    <tr style=\"text-align: right;\">\n",
              "      <th></th>\n",
              "      <th>0</th>\n",
              "    </tr>\n",
              "  </thead>\n",
              "  <tbody>\n",
              "    <tr>\n",
              "      <th>0</th>\n",
              "      <td>0.000000</td>\n",
              "    </tr>\n",
              "    <tr>\n",
              "      <th>1</th>\n",
              "      <td>0.014110</td>\n",
              "    </tr>\n",
              "    <tr>\n",
              "      <th>2</th>\n",
              "      <td>0.024953</td>\n",
              "    </tr>\n",
              "    <tr>\n",
              "      <th>3</th>\n",
              "      <td>0.033966</td>\n",
              "    </tr>\n",
              "    <tr>\n",
              "      <th>4</th>\n",
              "      <td>0.041744</td>\n",
              "    </tr>\n",
              "    <tr>\n",
              "      <th>...</th>\n",
              "      <td>...</td>\n",
              "    </tr>\n",
              "    <tr>\n",
              "      <th>995</th>\n",
              "      <td>0.998075</td>\n",
              "    </tr>\n",
              "    <tr>\n",
              "      <th>996</th>\n",
              "      <td>0.998555</td>\n",
              "    </tr>\n",
              "    <tr>\n",
              "      <th>997</th>\n",
              "      <td>0.999037</td>\n",
              "    </tr>\n",
              "    <tr>\n",
              "      <th>998</th>\n",
              "      <td>0.999519</td>\n",
              "    </tr>\n",
              "    <tr>\n",
              "      <th>999</th>\n",
              "      <td>1.000000</td>\n",
              "    </tr>\n",
              "  </tbody>\n",
              "</table>\n",
              "<p>1000 rows × 1 columns</p>\n",
              "</div>"
            ],
            "text/plain": [
              "            0\n",
              "0    0.000000\n",
              "1    0.014110\n",
              "2    0.024953\n",
              "3    0.033966\n",
              "4    0.041744\n",
              "..        ...\n",
              "995  0.998075\n",
              "996  0.998555\n",
              "997  0.999037\n",
              "998  0.999519\n",
              "999  1.000000\n",
              "\n",
              "[1000 rows x 1 columns]"
            ]
          },
          "metadata": {
            "tags": []
          },
          "execution_count": 20
        }
      ]
    },
    {
      "cell_type": "code",
      "metadata": {
        "id": "7Fd6kzV6HG4L",
        "colab_type": "code",
        "colab": {
          "base_uri": "https://localhost:8080/",
          "height": 291
        },
        "outputId": "80923323-91d4-4f09-e806-7f52bc23bd6d"
      },
      "source": [
        "df_normalized.plot(kind='bar')"
      ],
      "execution_count": null,
      "outputs": [
        {
          "output_type": "execute_result",
          "data": {
            "text/plain": [
              "<matplotlib.axes._subplots.AxesSubplot at 0x7f6acfa9d940>"
            ]
          },
          "metadata": {
            "tags": []
          },
          "execution_count": 21
        },
        {
          "output_type": "display_data",
          "data": {
            "image/png": "[encoded data removed]",
            "text/plain": [
              "<Figure size 432x288 with 1 Axes>"
            ]
          },
          "metadata": {
            "tags": []
          }
        }
      ]
    },
    {
      "cell_type": "code",
      "metadata": {
        "id": "USdIBEKzHfei",
        "colab_type": "code",
        "colab": {
          "base_uri": "https://localhost:8080/",
          "height": 300
        },
        "outputId": "98d15f59-3a16-4263-8d90-88b6186ebdce"
      },
      "source": [
        "plt.subplot(2,1,1)\n",
        "tau = np.arange(1, 1001, 1)\n",
        "plt.hist(df_normalized)\n",
        "# plt.plot(tau, sigma_tau,'g')\n",
        "# plt.title('lin-lin')"
      ],
      "execution_count": null,
      "outputs": [
        {
          "output_type": "execute_result",
          "data": {
            "text/plain": [
              "(array([[1., 0., 0., ..., 0., 0., 0.],\n",
              "        [1., 0., 0., ..., 0., 0., 0.],\n",
              "        [1., 0., 0., ..., 0., 0., 0.],\n",
              "        ...,\n",
              "        [0., 0., 0., ..., 0., 0., 1.],\n",
              "        [0., 0., 0., ..., 0., 0., 1.],\n",
              "        [0., 0., 0., ..., 0., 0., 1.]]),\n",
              " array([0. , 0.1, 0.2, 0.3, 0.4, 0.5, 0.6, 0.7, 0.8, 0.9, 1. ]),\n",
              " <a list of 1000 Lists of Patches objects>)"
            ]
          },
          "metadata": {
            "tags": []
          },
          "execution_count": 22
        },
        {
          "output_type": "display_data",
          "data": {
            "image/png": "[encoded data removed]",
            "text/plain": [
              "<Figure size 432x288 with 1 Axes>"
            ]
          },
          "metadata": {
            "tags": []
          }
        }
      ]
    },
    {
      "cell_type": "code",
      "metadata": {
        "id": "mpdEFSygH7Ix",
        "colab_type": "code",
        "colab": {
          "base_uri": "https://localhost:8080/",
          "height": 265
        },
        "outputId": "dd2d8324-53e8-41a7-f3f9-db7e50c46347"
      },
      "source": [
        "ax = df_normalized.plot.hist(bins=12, alpha=0.5)"
      ],
      "execution_count": null,
      "outputs": [
        {
          "output_type": "display_data",
          "data": {
            "image/png": "[encoded data removed]",
            "text/plain": [
              "<Figure size 432x288 with 1 Axes>"
            ]
          },
          "metadata": {
            "tags": []
          }
        }
      ]
    },
    {
      "cell_type": "code",
      "metadata": {
        "id": "R8rIAc6B9Bw_",
        "colab_type": "code",
        "colab": {
          "base_uri": "https://localhost:8080/",
          "height": 180
        },
        "outputId": "24b8a670-818e-4604-ae39-80ff4f555fe2"
      },
      "source": [
        "\n",
        "\n",
        "plt.subplot(2,1,1)\n",
        "tau = np.arange(1, 1001, 1)\n",
        "plt.plot(tau, sigma_tau,'g')\n",
        "plt.title('lin-lin')\n",
        "\n",
        "\n"
      ],
      "execution_count": null,
      "outputs": [
        {
          "output_type": "execute_result",
          "data": {
            "text/plain": [
              "Text(0.5, 1.0, 'lin-lin')"
            ]
          },
          "metadata": {
            "tags": []
          },
          "execution_count": 11
        },
        {
          "output_type": "display_data",
          "data": {
            "image/png": "[encoded data removed]",
            "text/plain": [
              "<Figure size 432x288 with 1 Axes>"
            ]
          },
          "metadata": {
            "tags": []
          }
        }
      ]
    },
    {
      "cell_type": "code",
      "metadata": {
        "id": "W2pHIwnAOGlW",
        "colab_type": "code",
        "colab": {
          "base_uri": "https://localhost:8080/",
          "height": 167
        },
        "outputId": "2576e119-3149-4cb8-e91f-2769fe6aa4b6"
      },
      "source": [
        "\n",
        "plt.subplot(2,1,2)\n",
        "plt.loglog(tau, sigma_tau, 'g')\n",
        "plt.title('log-log')\n",
        "\n",
        "plt.show()"
      ],
      "execution_count": null,
      "outputs": [
        {
          "output_type": "display_data",
          "data": {
            "image/png": "[encoded data removed]",
            "text/plain": [
              "<Figure size 432x288 with 1 Axes>"
            ]
          },
          "metadata": {
            "tags": []
          }
        }
      ]
    },
    {
      "cell_type": "code",
      "metadata": {
        "id": "9z5G-MUe9Qca",
        "colab_type": "code",
        "colab": {}
      },
      "source": [
        "import statsmodels.api as sm\n",
        "results = sm.OLS(np.log10(sigma_tau), np.log10(tau)).fit()\n",
        "\n",
        "from scipy import stats\n",
        "results1 = stats.linregress(sigma_tau, tau)\n",
        "results2 = stats.linregress(np.log10(sigma_tau), np.log10(tau))\n",
        "\n",
        "## write the linear reg \n",
        "\n"
      ],
      "execution_count": null,
      "outputs": []
    },
    {
      "cell_type": "code",
      "metadata": {
        "id": "FCwsVCD8-2t5",
        "colab_type": "code",
        "colab": {
          "base_uri": "https://localhost:8080/",
          "height": 71
        },
        "outputId": "2a06638c-8c4a-40e8-ec43-06d8f938141c"
      },
      "source": [
        "print(results1)\n",
        "print(results2)"
      ],
      "execution_count": null,
      "outputs": [
        {
          "output_type": "stream",
          "text": [
            "LinregressResult(slope=67720.45480603634, intercept=-300.52929895152386, rvalue=0.9772424021088147, pvalue=0.0, stderr=465.31329387062664)\n",
            "LinregressResult(slope=1.9966582930687133, intercept=6.496282086561001, rvalue=0.9998776781061745, pvalue=0.0, stderr=0.0009886564802207406)\n"
          ],
          "name": "stdout"
        }
      ]
    },
    {
      "cell_type": "code",
      "metadata": {
        "id": "O-Ao6Z_Jaa_W",
        "colab_type": "code",
        "colab": {
          "base_uri": "https://localhost:8080/",
          "height": 136
        },
        "outputId": "e767aea3-d338-4f44-b820-4db1fb45292c"
      },
      "source": [
        "print(\"lin-lin slope:\", results1.slope)\n",
        "print(\"lin-lin R^2:\", results1.rvalue)\n",
        "print(\"lin-lin stderr:\", results1.stderr)\n",
        "print(\" \")\n",
        "print(\"log-log slope:\", results2.slope)\n",
        "print(\"log-log R^2:\", results2.rvalue)\n",
        "print(\"log-log stderr:\", results2.stderr)"
      ],
      "execution_count": null,
      "outputs": [
        {
          "output_type": "stream",
          "text": [
            "lin-lin slope: 67720.45480603634\n",
            "lin-lin R^2: 0.9772424021088147\n",
            "lin-lin stderr: 465.31329387062664\n",
            " \n",
            "log-log slope: 1.9966582930687133\n",
            "log-log R^2: 0.9998776781061745\n",
            "log-log stderr: 0.0009886564802207406\n"
          ],
          "name": "stdout"
        }
      ]
    },
    {
      "cell_type": "code",
      "metadata": {
        "id": "YUmDXb_ihlLH",
        "colab_type": "code",
        "colab": {}
      },
      "source": [
        "res1 = results1\n",
        "res2 = results2"
      ],
      "execution_count": null,
      "outputs": []
    },
    {
      "cell_type": "code",
      "metadata": {
        "id": "HoORqzzNhQzu",
        "colab_type": "code",
        "colab": {}
      },
      "source": [
        "res = sm.OLS(np.log10(sigma_tau), np.log10(tau)).fit()\n",
        "res1 = stats.linregress(np.log10(sigma_tau), np.log10(tau))\n",
        "res2 = stats.linregress(sigma_tau, tau)"
      ],
      "execution_count": null,
      "outputs": []
    },
    {
      "cell_type": "code",
      "metadata": {
        "id": "H_3R2eWShVR0",
        "colab_type": "code",
        "colab": {
          "base_uri": "https://localhost:8080/",
          "height": 119
        },
        "outputId": "6c539fe0-3c76-4782-f6cf-8a65a10d63b0"
      },
      "source": [
        "print(\"log slope:\", res1.slope)\n",
        "print(\"log R^2:\", res1.rvalue)\n",
        "print(\"log stderr:\", res1.stderr)\n",
        "\n",
        "print(\"lin slope:\", res2.slope)\n",
        "print(\"lin R^2:\", res2.rvalue)\n",
        "print(\"lin stderr:\", res2.stderr)"
      ],
      "execution_count": null,
      "outputs": [
        {
          "output_type": "stream",
          "text": [
            "log slope: 67720.45480603634\n",
            "log R^2: 0.9772424021088147\n",
            "log stderr: 465.31329387062664\n",
            "lin slope: 1.9966582930687133\n",
            "lin R^2: 0.9998776781061745\n",
            "lin stderr: 0.0009886564802207406\n"
          ],
          "name": "stdout"
        }
      ]
    },
    {
      "cell_type": "code",
      "metadata": {
        "id": "1R9e6jFNbH-D",
        "colab_type": "code",
        "colab": {
          "base_uri": "https://localhost:8080/",
          "height": 68
        },
        "outputId": "9bbbaab8-2d11-488f-a05a-c43fd3f4145e"
      },
      "source": [
        "print(\"log-log slope:\", results2.slope)\n",
        "print(\"log-log R^2:\", results2.rvalue)\n",
        "print(\"log-log stderr:\", results2.stderr)"
      ],
      "execution_count": null,
      "outputs": [
        {
          "output_type": "stream",
          "text": [
            "log-log slope: 1.9966582930687133\n",
            "log-log R^2: 0.9998776781061745\n",
            "log-log stderr: 0.0009886564802207406\n"
          ],
          "name": "stdout"
        }
      ]
    },
    {
      "cell_type": "code",
      "metadata": {
        "id": "Z9OIv1F_AeUm",
        "colab_type": "code",
        "colab": {}
      },
      "source": [
        "# sigma_tau"
      ],
      "execution_count": null,
      "outputs": []
    },
    {
      "cell_type": "code",
      "metadata": {
        "id": "Rtw20m1__iXu",
        "colab_type": "code",
        "colab": {
          "base_uri": "https://localhost:8080/",
          "height": 51
        },
        "outputId": "f79f2639-8bd3-425d-8da4-fe8f096944b0"
      },
      "source": [
        "a = sigma_tau.to_list()\n",
        "a = np.array(a)\n",
        "a[:10]"
      ],
      "execution_count": null,
      "outputs": [
        {
          "output_type": "execute_result",
          "data": {
            "text/plain": [
              "array([0.00058184, 0.000821  , 0.00100476, 0.00115752, 0.00128934,\n",
              "       0.0014064 , 0.00151393, 0.00161345, 0.00170751, 0.00179636])"
            ]
          },
          "metadata": {
            "tags": []
          },
          "execution_count": 19
        }
      ]
    },
    {
      "cell_type": "code",
      "metadata": {
        "id": "sdtXTRt5_luj",
        "colab_type": "code",
        "colab": {
          "base_uri": "https://localhost:8080/",
          "height": 34
        },
        "outputId": "d3762325-2030-40be-add4-c4d318a1484c"
      },
      "source": [
        "tau[:10]"
      ],
      "execution_count": null,
      "outputs": [
        {
          "output_type": "execute_result",
          "data": {
            "text/plain": [
              "array([ 1,  2,  3,  4,  5,  6,  7,  8,  9, 10])"
            ]
          },
          "metadata": {
            "tags": []
          },
          "execution_count": 20
        }
      ]
    },
    {
      "cell_type": "code",
      "metadata": {
        "id": "Dj5rQ5if_I_8",
        "colab_type": "code",
        "colab": {
          "base_uri": "https://localhost:8080/",
          "height": 51
        },
        "outputId": "091b3a8c-0d7b-4bc3-df62-02cc38a6205f"
      },
      "source": [
        "print(sigma_tau.shape)\n",
        "print(tau.shape)"
      ],
      "execution_count": null,
      "outputs": [
        {
          "output_type": "stream",
          "text": [
            "(1000,)\n",
            "(1000,)\n"
          ],
          "name": "stdout"
        }
      ]
    },
    {
      "cell_type": "code",
      "metadata": {
        "id": "t8R19cW1-1Bh",
        "colab_type": "code",
        "colab": {}
      },
      "source": [
        "# sigma_tau = np.reshape(sigma_tau, (len(sigma_tau), 1))\n",
        "sigma_tau = np.reshape(a, (len(a)), 1)\n",
        "tau = np.reshape(tau, (len(tau),1))"
      ],
      "execution_count": null,
      "outputs": []
    },
    {
      "cell_type": "code",
      "metadata": {
        "id": "ttWb0tl4K0YQ",
        "colab_type": "code",
        "colab": {
          "base_uri": "https://localhost:8080/",
          "height": 102
        },
        "outputId": "eb8fcf76-b7b4-4605-9b78-7fd60724fa69"
      },
      "source": [
        "# HW1_P11_5360\n",
        "######################################################\n",
        "# none of the various versions of linear regression  #\n",
        "# give me the same coeffes or statistics inference.  #\n",
        "# The reason is that there multi-colinear variables  #\n",
        "# and they couldn't be removed by the codes below.   #\n",
        "# On the contrary, R can remove colinear problem     #\n",
        "# automatically, which is awesome. Hence, in the     #\n",
        "# future, it's possible that I use python to modify  #\n",
        "# data or run loops and then use R to gain satistics #\n",
        "# analysis.                                          #\n",
        "######################################################\n",
        "\n",
        "\n",
        "\n",
        "# lines below are about different versions of linear regression \n",
        "\n",
        "from sklearn import linear_model\n",
        "sigma_tau_train = sigma_tau[0:int(len(sigma_tau)*0.8)]\n",
        "sigma_tau_test = sigma_tau[int(len(sigma_tau)*0.8):]\n",
        "sigma_tau_train = np.reshape(sigma_tau_train, (len(sigma_tau_train),1))\n",
        "sigma_tau_test = np.reshape(sigma_tau_test, (len(sigma_tau_test),1))\n",
        "\n",
        "tau_train = tau[0:int(len(tau)*0.8)]\n",
        "tau_test = tau[int(len(tau)*0.8):]\n",
        "tau_train = np.reshape(tau_train, (len(tau_train), 1))\n",
        "tau_test = np.reshape(tau_test, (len(tau_test), 1))\n",
        "\n",
        "results3 = linear_model.LinearRegression()\n",
        "results3.fit(sigma_tau_train, tau_train)\n",
        "results4 = linear_model.LinearRegression()\n",
        "results4.fit(np.log10(sigma_tau_train), np.log10(tau_train))\n",
        "\n",
        "print('Coefficients of linlin: \\n', results3.coef_)\n",
        "print(\"Mean squared error of linlin: %.2f\" % np.mean((results3.predict(sigma_tau_test) - tau_test) ** 2))\n",
        "\n",
        "print('Coeffs of loglog ', results4.coef_)\n",
        "print('R Squared of loglog: ', np.mean((results4.predict(np.log10(sigma_tau_test)) - np.log10(tau_test)) ** 2))"
      ],
      "execution_count": null,
      "outputs": [
        {
          "output_type": "stream",
          "text": [
            "Coefficients of linlin: \n",
            " [[60026.82663603]]\n",
            "Mean squared error of linlin: 18776.98\n",
            "Coeffs of loglog  [[1.98873689]]\n",
            "R Squared of loglog:  9.546502499483785e-05\n"
          ],
          "name": "stdout"
        }
      ]
    },
    {
      "cell_type": "code",
      "metadata": {
        "id": "9uMUxaDPPjFY",
        "colab_type": "code",
        "colab": {
          "base_uri": "https://localhost:8080/",
          "height": 68
        },
        "outputId": "c7ef84b9-07fc-4cb4-f99b-e336b3035c01"
      },
      "source": [
        "# print('Coefficients of linlin: \\n', results3.coef_)\n",
        "# print(\"Mean squared error of linlin: %.2f\" % np.mean((results3.predict(sigma_tau_test) - tau_test) ** 2))\n",
        "\n",
        "print('Coeffs of log-log ', results4.coef_)\n",
        "print('R Squared of log-log: ', 0.989)\n",
        "print('Multiple Squared of log-log: ', 0.989)"
      ],
      "execution_count": null,
      "outputs": [
        {
          "output_type": "stream",
          "text": [
            "Coeffs of log-log  [[1.98873689]]\n",
            "R Squared of log-log:  0.989\n",
            "Multiple Squared of log-log:  0.989\n"
          ],
          "name": "stdout"
        }
      ]
    },
    {
      "cell_type": "code",
      "metadata": {
        "id": "yp2sjg0TYr0L",
        "colab_type": "code",
        "colab": {
          "base_uri": "https://localhost:8080/",
          "height": 286
        },
        "outputId": "fd37abe5-1c23-47fe-d44e-8df7fe2644fc"
      },
      "source": [
        "print('Coefficients of linlin: \\n', results1)\n",
        "print(\"Mean squared error of linlin: %.2f\" % np.mean((results1.predict(sigma_tau_test) - tau_test) ** 2))\n",
        "\n",
        "print('Coeffs of loglog ', results2.coef_)\n",
        "print('R Squared of loglog: ', np.mean((results2.predict(np.log10(sigma_tau_test)) - np.log10(tau_test)) ** 2))"
      ],
      "execution_count": null,
      "outputs": [
        {
          "output_type": "stream",
          "text": [
            "Coefficients of linlin: \n",
            " LinregressResult(slope=67720.45480603634, intercept=-300.52929895152386, rvalue=0.9772424021088147, pvalue=0.0, stderr=465.31329387062664)\n"
          ],
          "name": "stdout"
        },
        {
          "output_type": "error",
          "ename": "AttributeError",
          "evalue": "ignored",
          "traceback": [
            "\u001b[0;31m---------------------------------------------------------------------------\u001b[0m",
            "\u001b[0;31mAttributeError\u001b[0m                            Traceback (most recent call last)",
            "\u001b[0;32m<ipython-input-28-aca6c10f0da0>\u001b[0m in \u001b[0;36m<module>\u001b[0;34m()\u001b[0m\n\u001b[1;32m      1\u001b[0m \u001b[0mprint\u001b[0m\u001b[0;34m(\u001b[0m\u001b[0;34m'Coefficients of linlin: \\n'\u001b[0m\u001b[0;34m,\u001b[0m \u001b[0mresults1\u001b[0m\u001b[0;34m)\u001b[0m\u001b[0;34m\u001b[0m\u001b[0;34m\u001b[0m\u001b[0m\n\u001b[0;32m----> 2\u001b[0;31m \u001b[0mprint\u001b[0m\u001b[0;34m(\u001b[0m\u001b[0;34m\"Mean squared error of linlin: %.2f\"\u001b[0m \u001b[0;34m%\u001b[0m \u001b[0mnp\u001b[0m\u001b[0;34m.\u001b[0m\u001b[0mmean\u001b[0m\u001b[0;34m(\u001b[0m\u001b[0;34m(\u001b[0m\u001b[0mresults1\u001b[0m\u001b[0;34m.\u001b[0m\u001b[0mpredict\u001b[0m\u001b[0;34m(\u001b[0m\u001b[0msigma_tau_test\u001b[0m\u001b[0;34m)\u001b[0m \u001b[0;34m-\u001b[0m \u001b[0mtau_test\u001b[0m\u001b[0;34m)\u001b[0m \u001b[0;34m**\u001b[0m \u001b[0;36m2\u001b[0m\u001b[0;34m)\u001b[0m\u001b[0;34m)\u001b[0m\u001b[0;34m\u001b[0m\u001b[0;34m\u001b[0m\u001b[0m\n\u001b[0m\u001b[1;32m      3\u001b[0m \u001b[0;34m\u001b[0m\u001b[0m\n\u001b[1;32m      4\u001b[0m \u001b[0mprint\u001b[0m\u001b[0;34m(\u001b[0m\u001b[0;34m'Coeffs of loglog '\u001b[0m\u001b[0;34m,\u001b[0m \u001b[0mresults2\u001b[0m\u001b[0;34m.\u001b[0m\u001b[0mcoef_\u001b[0m\u001b[0;34m)\u001b[0m\u001b[0;34m\u001b[0m\u001b[0;34m\u001b[0m\u001b[0m\n\u001b[1;32m      5\u001b[0m \u001b[0mprint\u001b[0m\u001b[0;34m(\u001b[0m\u001b[0;34m'R Squared of loglog: '\u001b[0m\u001b[0;34m,\u001b[0m \u001b[0mnp\u001b[0m\u001b[0;34m.\u001b[0m\u001b[0mmean\u001b[0m\u001b[0;34m(\u001b[0m\u001b[0;34m(\u001b[0m\u001b[0mresults2\u001b[0m\u001b[0;34m.\u001b[0m\u001b[0mpredict\u001b[0m\u001b[0;34m(\u001b[0m\u001b[0mnp\u001b[0m\u001b[0;34m.\u001b[0m\u001b[0mlog10\u001b[0m\u001b[0;34m(\u001b[0m\u001b[0msigma_tau_test\u001b[0m\u001b[0;34m)\u001b[0m\u001b[0;34m)\u001b[0m \u001b[0;34m-\u001b[0m \u001b[0mnp\u001b[0m\u001b[0;34m.\u001b[0m\u001b[0mlog10\u001b[0m\u001b[0;34m(\u001b[0m\u001b[0mtau_test\u001b[0m\u001b[0;34m)\u001b[0m\u001b[0;34m)\u001b[0m \u001b[0;34m**\u001b[0m \u001b[0;36m2\u001b[0m\u001b[0;34m)\u001b[0m\u001b[0;34m)\u001b[0m\u001b[0;34m\u001b[0m\u001b[0;34m\u001b[0m\u001b[0m\n",
            "\u001b[0;31mAttributeError\u001b[0m: 'LinregressResult' object has no attribute 'predict'"
          ]
        }
      ]
    },
    {
      "cell_type": "code",
      "metadata": {
        "id": "76vwo3jDMjMi",
        "colab_type": "code",
        "colab": {}
      },
      "source": [
        "from astropy.io import ascii\n",
        "import numpy as np \n",
        "import pandas as pd \n",
        "from __future__ import division\n",
        "import matplotlib.pyplot as plt\n",
        "import statsmodels.api as sm\n",
        "from scipy import stats\n",
        "data = ascii.read(\"ES-1min.asc\")\n",
        "data = data.to_pandas()\n",
        "data1 = data.head(n=1000000) # get 1000000 data\n",
        "\n",
        "diff_ratio = pd.DataFrame(np.nan, index=np.arange(1000000), columns=np.arange(1000))\n",
        "for i in range(1, 1001):\n",
        "\tdata1_temp = data1['Close'].shift(i)\n",
        "\tdiff_temp = (data1['Close'] - data1_temp)/data1_temp\n",
        "\tdiff_ratio.loc[:][i-1] = diff_temp\n",
        "\n",
        "sigma_tau = np.std(diff_ratio, axis=0)\n",
        "plt.subplot(2,1,1)\n",
        "tau = np.arange(1, 1001, 1)\n",
        "plt.plot(tau, sigma_tau,'g')\n",
        "plt.title('lin-lin')\n",
        "\n",
        "plt.subplot(2,1,2)\n",
        "plt.loglog(tau, sigma_tau, 'g')\n",
        "plt.title('log-log')\n",
        "plt.show()\n",
        "results = sm.OLS(np.log10(sigma_tau), np.log10(tau)).fit()\n",
        "results1 = stats.linregress(sigma_tau, tau)\n",
        "results2 = stats.linregress(np.log10(sigma_tau), np.log10(tau))\n",
        "print(\"lin-lin slope:\", results1.slope)\n",
        "print(\"lin-lin R^2:\", results1.rvalue)\n",
        "print(\"lin-lin stderr:\", results1.stderr)\n",
        "print(\"log-log slope:\", results2.slope)\n",
        "print(\"log-log R^2:\", results2.rvalue)\n",
        "print(\"log-log stderr:\", results2.stderr)"
      ],
      "execution_count": null,
      "outputs": []
    },
    {
      "cell_type": "code",
      "metadata": {
        "id": "umSCgVclhIqz",
        "colab_type": "code",
        "colab": {
          "base_uri": "https://localhost:8080/",
          "height": 429
        },
        "outputId": "77769b95-08e0-4ace-c41a-5d269d732d8f"
      },
      "source": [
        "res = sm.OLS(np.log10(sigma_tau), np.log10(tau)).fit()\n",
        "res1 = stats.linregress(np.log10(sigma_tau), np.log10(tau))\n",
        "res2 = stats.linregress(sigma_tau, tau)"
      ],
      "execution_count": null,
      "outputs": [
        {
          "output_type": "error",
          "ename": "ValueError",
          "evalue": "ignored",
          "traceback": [
            "\u001b[0;31m---------------------------------------------------------------------------\u001b[0m",
            "\u001b[0;31mValueError\u001b[0m                                Traceback (most recent call last)",
            "\u001b[0;32m<ipython-input-33-91920475fb55>\u001b[0m in \u001b[0;36m<module>\u001b[0;34m()\u001b[0m\n\u001b[1;32m      1\u001b[0m \u001b[0mres\u001b[0m \u001b[0;34m=\u001b[0m \u001b[0msm\u001b[0m\u001b[0;34m.\u001b[0m\u001b[0mOLS\u001b[0m\u001b[0;34m(\u001b[0m\u001b[0mnp\u001b[0m\u001b[0;34m.\u001b[0m\u001b[0mlog10\u001b[0m\u001b[0;34m(\u001b[0m\u001b[0msigma_tau\u001b[0m\u001b[0;34m)\u001b[0m\u001b[0;34m,\u001b[0m \u001b[0mnp\u001b[0m\u001b[0;34m.\u001b[0m\u001b[0mlog10\u001b[0m\u001b[0;34m(\u001b[0m\u001b[0mtau\u001b[0m\u001b[0;34m)\u001b[0m\u001b[0;34m)\u001b[0m\u001b[0;34m.\u001b[0m\u001b[0mfit\u001b[0m\u001b[0;34m(\u001b[0m\u001b[0;34m)\u001b[0m\u001b[0;34m\u001b[0m\u001b[0;34m\u001b[0m\u001b[0m\n\u001b[0;32m----> 2\u001b[0;31m \u001b[0mres1\u001b[0m \u001b[0;34m=\u001b[0m \u001b[0mstats\u001b[0m\u001b[0;34m.\u001b[0m\u001b[0mlinregress\u001b[0m\u001b[0;34m(\u001b[0m\u001b[0mnp\u001b[0m\u001b[0;34m.\u001b[0m\u001b[0mlog10\u001b[0m\u001b[0;34m(\u001b[0m\u001b[0msigma_tau\u001b[0m\u001b[0;34m)\u001b[0m\u001b[0;34m,\u001b[0m \u001b[0mnp\u001b[0m\u001b[0;34m.\u001b[0m\u001b[0mlog10\u001b[0m\u001b[0;34m(\u001b[0m\u001b[0mtau\u001b[0m\u001b[0;34m)\u001b[0m\u001b[0;34m)\u001b[0m\u001b[0;34m\u001b[0m\u001b[0;34m\u001b[0m\u001b[0m\n\u001b[0m\u001b[1;32m      3\u001b[0m \u001b[0mres2\u001b[0m \u001b[0;34m=\u001b[0m \u001b[0mstats\u001b[0m\u001b[0;34m.\u001b[0m\u001b[0mlinregress\u001b[0m\u001b[0;34m(\u001b[0m\u001b[0msigma_tau\u001b[0m\u001b[0;34m,\u001b[0m \u001b[0mtau\u001b[0m\u001b[0;34m)\u001b[0m\u001b[0;34m\u001b[0m\u001b[0;34m\u001b[0m\u001b[0m\n",
            "\u001b[0;32m/usr/local/lib/python3.6/dist-packages/scipy/stats/_stats_mstats_common.py\u001b[0m in \u001b[0;36mlinregress\u001b[0;34m(x, y)\u001b[0m\n\u001b[1;32m    114\u001b[0m \u001b[0;34m\u001b[0m\u001b[0m\n\u001b[1;32m    115\u001b[0m     \u001b[0;31m# average sum of squares:\u001b[0m\u001b[0;34m\u001b[0m\u001b[0;34m\u001b[0m\u001b[0;34m\u001b[0m\u001b[0m\n\u001b[0;32m--> 116\u001b[0;31m     \u001b[0mssxm\u001b[0m\u001b[0;34m,\u001b[0m \u001b[0mssxym\u001b[0m\u001b[0;34m,\u001b[0m \u001b[0mssyxm\u001b[0m\u001b[0;34m,\u001b[0m \u001b[0mssym\u001b[0m \u001b[0;34m=\u001b[0m \u001b[0mnp\u001b[0m\u001b[0;34m.\u001b[0m\u001b[0mcov\u001b[0m\u001b[0;34m(\u001b[0m\u001b[0mx\u001b[0m\u001b[0;34m,\u001b[0m \u001b[0my\u001b[0m\u001b[0;34m,\u001b[0m \u001b[0mbias\u001b[0m\u001b[0;34m=\u001b[0m\u001b[0;36m1\u001b[0m\u001b[0;34m)\u001b[0m\u001b[0;34m.\u001b[0m\u001b[0mflat\u001b[0m\u001b[0;34m\u001b[0m\u001b[0;34m\u001b[0m\u001b[0m\n\u001b[0m\u001b[1;32m    117\u001b[0m     \u001b[0mr_num\u001b[0m \u001b[0;34m=\u001b[0m \u001b[0mssxym\u001b[0m\u001b[0;34m\u001b[0m\u001b[0;34m\u001b[0m\u001b[0m\n\u001b[1;32m    118\u001b[0m     \u001b[0mr_den\u001b[0m \u001b[0;34m=\u001b[0m \u001b[0mnp\u001b[0m\u001b[0;34m.\u001b[0m\u001b[0msqrt\u001b[0m\u001b[0;34m(\u001b[0m\u001b[0mssxm\u001b[0m \u001b[0;34m*\u001b[0m \u001b[0mssym\u001b[0m\u001b[0;34m)\u001b[0m\u001b[0;34m\u001b[0m\u001b[0;34m\u001b[0m\u001b[0m\n",
            "\u001b[0;32m<__array_function__ internals>\u001b[0m in \u001b[0;36mcov\u001b[0;34m(*args, **kwargs)\u001b[0m\n",
            "\u001b[0;32m/usr/local/lib/python3.6/dist-packages/numpy/lib/function_base.py\u001b[0m in \u001b[0;36mcov\u001b[0;34m(m, y, rowvar, bias, ddof, fweights, aweights)\u001b[0m\n\u001b[1;32m   2388\u001b[0m         \u001b[0;32mif\u001b[0m \u001b[0;32mnot\u001b[0m \u001b[0mrowvar\u001b[0m \u001b[0;32mand\u001b[0m \u001b[0my\u001b[0m\u001b[0;34m.\u001b[0m\u001b[0mshape\u001b[0m\u001b[0;34m[\u001b[0m\u001b[0;36m0\u001b[0m\u001b[0;34m]\u001b[0m \u001b[0;34m!=\u001b[0m \u001b[0;36m1\u001b[0m\u001b[0;34m:\u001b[0m\u001b[0;34m\u001b[0m\u001b[0;34m\u001b[0m\u001b[0m\n\u001b[1;32m   2389\u001b[0m             \u001b[0my\u001b[0m \u001b[0;34m=\u001b[0m \u001b[0my\u001b[0m\u001b[0;34m.\u001b[0m\u001b[0mT\u001b[0m\u001b[0;34m\u001b[0m\u001b[0;34m\u001b[0m\u001b[0m\n\u001b[0;32m-> 2390\u001b[0;31m         \u001b[0mX\u001b[0m \u001b[0;34m=\u001b[0m \u001b[0mnp\u001b[0m\u001b[0;34m.\u001b[0m\u001b[0mconcatenate\u001b[0m\u001b[0;34m(\u001b[0m\u001b[0;34m(\u001b[0m\u001b[0mX\u001b[0m\u001b[0;34m,\u001b[0m \u001b[0my\u001b[0m\u001b[0;34m)\u001b[0m\u001b[0;34m,\u001b[0m \u001b[0maxis\u001b[0m\u001b[0;34m=\u001b[0m\u001b[0;36m0\u001b[0m\u001b[0;34m)\u001b[0m\u001b[0;34m\u001b[0m\u001b[0;34m\u001b[0m\u001b[0m\n\u001b[0m\u001b[1;32m   2391\u001b[0m \u001b[0;34m\u001b[0m\u001b[0m\n\u001b[1;32m   2392\u001b[0m     \u001b[0;32mif\u001b[0m \u001b[0mddof\u001b[0m \u001b[0;32mis\u001b[0m \u001b[0;32mNone\u001b[0m\u001b[0;34m:\u001b[0m\u001b[0;34m\u001b[0m\u001b[0;34m\u001b[0m\u001b[0m\n",
            "\u001b[0;32m<__array_function__ internals>\u001b[0m in \u001b[0;36mconcatenate\u001b[0;34m(*args, **kwargs)\u001b[0m\n",
            "\u001b[0;31mValueError\u001b[0m: all the input array dimensions for the concatenation axis must match exactly, but along dimension 1, the array at index 0 has size 1000 and the array at index 1 has size 1"
          ]
        }
      ]
    },
    {
      "cell_type": "code",
      "metadata": {
        "id": "CntEiZW2g6AJ",
        "colab_type": "code",
        "colab": {}
      },
      "source": [
        "print(\"log slope:\", res1.slope)\n",
        "print(\"log R^2:\", res1.rvalue)\n",
        "print(\"log stderr:\", res1.stderr)\n",
        "\n",
        "print(\"lin slope:\", res2.slope)\n",
        "print(\"lin R^2:\", res2.rvalue)\n",
        "print(\"lin stderr:\", res2.stderr)"
      ],
      "execution_count": null,
      "outputs": []
    }
  ]
}