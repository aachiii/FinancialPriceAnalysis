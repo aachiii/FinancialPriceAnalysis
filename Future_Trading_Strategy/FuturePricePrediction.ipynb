{
  "nbformat": 4,
  "nbformat_minor": 0,
  "metadata": {
    "colab": {
      "name": "5360code.ipynb",
      "provenance": []
    },
    "kernelspec": {
      "name": "python3",
      "display_name": "Python 3"
    }
  },
  "cells": [
    {
      "cell_type": "code",
      "metadata": {
        "id": "xKkuPtkuV3br",
        "colab_type": "code",
        "colab": {}
      },
      "source": [
        "%matplotlib inline\n",
        "import numpy as np\n",
        "import pandas as pd\n",
        "import matplotlib.pyplot as plt\n",
        "import seaborn\n",
        "import matplotlib as mpl"
      ],
      "execution_count": 0,
      "outputs": []
    },
    {
      "cell_type": "code",
      "metadata": {
        "id": "wMhyDVPuZYcS",
        "colab_type": "code",
        "colab": {}
      },
      "source": [
        "def load_data(filename):\n",
        "    df = pd.read_csv(filename)\n",
        "    df['Date'] = pd.to_datetime(df['Date'])\n",
        "    return df\n",
        "\n",
        "def calcMax(length, high):\n",
        "    a = high.shape\n",
        "    runningMax = np.zeros(a)\n",
        "    # print('a', a)\n",
        "    # print('l',length)\n",
        "    runningMax[length-1] = max(high[:length])\n",
        "    for i in range(length,a[0]):\n",
        "        if high[i] >= runningMax[i-1]:\n",
        "            runningMax[i] = high[i]\n",
        "        elif runningMax[i-1] == high[i-length]:\n",
        "            runningMax[i] = max(high[(i-length+1):(i+1)])\n",
        "        else:\n",
        "            runningMax[i] = runningMax[i-1]\n",
        "    return runningMax\n",
        "\n",
        "def calcMin(length, low):\n",
        "    a = low.shape\n",
        "    runningLow = np.zeros(a)\n",
        "    runningLow[length-1] = min(low[:length])\n",
        "    for i in range(length,a[0]):\n",
        "        if low[i] <= runningLow[i-1]:\n",
        "            runningLow[i] = low[i]\n",
        "        elif runningLow[i-1] == low[i-length]:\n",
        "            runningLow[i] = min(low[(i-length+1):(i+1)])\n",
        "        else:\n",
        "            runningLow[i] = runningLow[i-1]\n",
        "    return runningLow\n",
        "\n",
        "\n",
        "def calcSignal(length, rm, rl, high, low):\n",
        "    a = rm.shape\n",
        "    signal = np.zeros(a)\n",
        "    for i in range(length,a[0]):\n",
        "        if high[i] >= rm[i-1]:\n",
        "            if low[i] < rl[i-1]:\n",
        "                signal[i] = 0\n",
        "            else:\n",
        "                signal[i] = 1\n",
        "        elif low[i] <= rl[i-1]:\n",
        "            signal[i] = -1\n",
        "    return signal\n",
        "\n",
        "\n",
        "def calcDrawdown(portfolio):\n",
        "    a = portfolio.shape\n",
        "    drawdown = np.zeros(a)\n",
        "    prevPeak = portfolio[0]\n",
        "    for i in range(1,a[0]):\n",
        "        if portfolio[i] < prevPeak:\n",
        "            drawdown[i] = portfolio[i] - prevPeak\n",
        "        elif portfolio[i] > prevPeak:\n",
        "            prevPeak = portfolio[i]\n",
        "    return drawdown\n",
        "\n",
        "\n",
        "def calcTrades(length, stopPct, signal, close, Open, high, low, rm, rl):\n",
        "    a = Open.shape\n",
        "    trade = np.zeros(a)\n",
        "    price = np.zeros(a)\n",
        "    currentPos = 0.0\n",
        "    prevPeak = 0.0\n",
        "    prevTrough = 0.0\n",
        "    for i in range(length,a[0]-1):\n",
        "        if currentPos == 0:\n",
        "            if signal[i] == 1: \n",
        "                trade[i] = 1\n",
        "                currentPos = 1\n",
        "                price[i] = max(rm[i-1], Open[i]);\n",
        "                prevPeak = price[i]\n",
        "            elif signal[i] == -1:\n",
        "                trade[i] = -1\n",
        "                currentPos = -1\n",
        "                price[i] = min(rl[i-1],Open[i]);\n",
        "                prevTrough = price[i]\n",
        "        elif currentPos == 1:\n",
        "            if high[i-1] > prevPeak:\n",
        "                prevPeak = high[i-1]\n",
        "            if low[i] <= (1-stopPct) * prevPeak:\n",
        "                trade[i] = -1\n",
        "                price[i] = min(Open[i], (1-stopPct)*prevPeak)\n",
        "                currentPos = 0\n",
        "        elif currentPos == -1:\n",
        "            if low[i-1] < prevTrough:\n",
        "                prevTrough = low[i-1]\n",
        "            if high[i] >= (1 + stopPct) * prevTrough:\n",
        "                trade[i] = 1\n",
        "                price[i] = max(Open[i], (1+stopPct)*prevTrough)\n",
        "                currentPos = 0\n",
        "                \n",
        "    if currentPos == 1:\n",
        "        trade[a[0]-1] = -1\n",
        "        price[a[0]-1] = close[a[0]-1]\n",
        "    elif currentPos == -1:\n",
        "        trade[a[0]-1] = 1\n",
        "        price[a[0]-1] = close[a[0]-1]\n",
        "    \n",
        "#    print(sum(abs(trade)) / 2)\n",
        "    return trade, price\n",
        "\n",
        "\n",
        "\n",
        "def calcPortfolio(length, stopPct, Open, high, low, close, capital,contractSize,slippage):\n",
        "    runningMax = calcMax(length, high)\n",
        "    runningMin = calcMin(length, low)\n",
        "    signal = calcSignal(length, runningMax, runningMin, high, low)\n",
        "    trades,prices = calcTrades(length, stopPct, signal, close, Open, high, low, runningMax, runningMin)\n",
        "    a = Open.shape\n",
        "    port = np.zeros(a)\n",
        "    port[:length] = capital\n",
        "    cash = capital\n",
        "    currentPos = 0\n",
        "    priceTraded = 0\n",
        "    slippageThisTrade = 0\n",
        "    \n",
        "    for i in range(length, a[0]):\n",
        "        port[i] = port[i-1] + currentPos*contractSize*(Open[i] - close[i-1])\n",
        "        if trades[i] == 1:\n",
        "            currentPos += 1\n",
        "            slippageThisTrade = (1-abs(currentPos))*slippage\n",
        "            priceTraded = prices[i]\n",
        "            port[i] = port[i] + currentPos*contractSize*(close[i] - priceTraded) - (1-abs(currentPos))*contractSize*(priceTraded - Open[i])        \n",
        "        elif trades[i] == -1:\n",
        "            currentPos -= 1\n",
        "            slippageThisTrade = (1-abs(currentPos))*slippage\n",
        "            priceTraded = prices[i]\n",
        "            port[i] = port[i] + currentPos*contractSize*(close[i] - priceTraded) + (1-abs(currentPos))*contractSize*(priceTraded - Open[i])        \n",
        "        elif trades[i] == 0:\n",
        "            slippageThisTrade = 0\n",
        "            port[i] = port[i] + currentPos*contractSize*(close[i]-Open[i])\n",
        "    return port\n",
        "\n",
        "    \n",
        "def backtest(df, pcts, lengths, cz, slippage, capital):\n",
        "    stopPct = 0\n",
        "    channelLength = 0\n",
        "    maxReturn = -10000000\n",
        "    length = [0.01+(0.005*i) for i in range(8)]\n",
        "    pct = [2000+(50*j) for j in range(10)]\n",
        "    for i in length:\n",
        "        for j in pct:\n",
        "            port = calcPortfolio(int(j),i,np.array(df.Open),np.array(df.High),np.array(df.Low),np.array(df.Close), capital,cz,slippage)\n",
        "            ratio = (port[-1] - port[0]) / max(abs(calcDrawdown(port)))\n",
        "            if ratio > maxReturn:\n",
        "                stopPct = i\n",
        "                channelLength = j\n",
        "                maxReturn = ratio\n",
        "    return stopPct, channelLength, maxReturn\n",
        "\n",
        "def predict(df, pct, channelLength, cz, slippage, capital):\n",
        "    portfolioVector = calcPortfolio(channelLength, pct,np.array(df.Open),np.array(df.High),np.array(df.Low),np.array(df.Close), capital,cz,slippage)\n",
        "    return portfolioVector\n",
        "\n",
        "def strategy(df, cz, slippage, capital, pcts, lengths, insamp, outsamp):\n",
        "    #print('in:', insamp, 'out',outsamp)\n",
        "    insamp = np.timedelta64(insamp, 'Y')\n",
        "    outsamp = np.timedelta64(outsamp, 'M')\n",
        "    day = pd.Timedelta('1day')\n",
        "    val1 = df['Date'][0]\n",
        "    val2 = (df['Date'][0] + insamp + day).normalize()\n",
        "    val3 = (val2 + outsamp + day).normalize()\n",
        "    price = np.array([])\n",
        "    stop_pct = np.array([])\n",
        "    channel_Length = np.array([])\n",
        "    max_Return = np.array([])\n",
        "    while val2 <= df.Date[len(df.Date)-1]:\n",
        "        back = df[(df['Date'] >= val1) & (df['Date'] < val2)]\n",
        "        stopPct, channelLength, maxReturn = backtest(back, pcts, lengths, cz, slippage, capital)\n",
        "        print(stopPct, channelLength, maxReturn)\n",
        "        stop_pct = np.append(stop_pct, stopPct)\n",
        "        channel_Length = np.append(channel_Length, channelLength)\n",
        "        max_Return = np.append(max_Return, maxReturn)\n",
        "        back = df[(df['Date'] >= val2) & (df['Date'] < val3)]\n",
        "        # print(back.High.shape)\n",
        "        price = np.append(peice,predict(back, stopPct, channelLength, cz, slippage, capital))\n",
        "        capital = price[-1]\n",
        "        val1 = (val1 + outsamp + day).normalize()\n",
        "        val2 = val3\n",
        "        val3 = (val3 + outsamp + day).normalize()\n",
        "        #print(val2 < df.Date[len(df.Date)-1])\n",
        "        \n",
        "    print('Done')\n",
        "    return price, stop_pct, channel_Length, max_Return\n",
        "\n",
        "def optimize(df, cz, slippage, capital, pcts, lengths, insamp, outsamp):\n",
        "    maxReturn = 0\n",
        "    first = True\n",
        "    t = 0\n",
        "    tau = 0\n",
        "    for i in range(4,5):\n",
        "        for j in range(3,5):\n",
        "            try:\n",
        "                if first:           \n",
        "                    port = strategy(df, cz, slippage, capital, pcts, lengths, i, j)\n",
        "                    price = port\n",
        "                    first = False\n",
        "                else:\n",
        "                    port = strategy(df, cz, slippage, capital, pcts, lengths, i, j)\n",
        "                    ratio = (price[-1] - price[0]) / max(abs(calcDrawdown(port)))\n",
        "                    if ratio > maxReturn:\n",
        "                        price = port\n",
        "                        t = i\n",
        "                        tau = j\n",
        "                        maxReturn = ratio\n",
        "            except:\n",
        "                pass\n",
        "    return price, t,tau\n",
        "\n",
        "def runFile(opt, filename, cz, slippage, capital, pcts, lengths, insamp, outsamp):\n",
        "    df = load_data(filename)\n",
        "    if opt.lower() == 'strategy':\n",
        "        price = strategy(df, cz, slippage, capital, pcts, lengths, insamp, outsamp)\n",
        "        return price\n",
        "    elif opt.lower() == 'optimize':\n",
        "        price, insample, outsample = optimize(df, cz, slippage, capital, pcts, lengths, insamp, outsamp)\n",
        "        return price, insample, outsample\n",
        "    else:\n",
        "        print('Enter Either strategy or optimize')\n",
        "        "
      ],
      "execution_count": 0,
      "outputs": []
    },
    {
      "cell_type": "code",
      "metadata": {
        "id": "YcWPJdltXjaJ",
        "colab_type": "code",
        "colab": {}
      },
      "source": [
        "filename = 'TU-5min.asc'\n",
        "df = load_data(filename)"
      ],
      "execution_count": 0,
      "outputs": []
    },
    {
      "cell_type": "code",
      "metadata": {
        "id": "MgCddTj-XnvY",
        "colab_type": "code",
        "colab": {}
      },
      "source": [
        "df.High"
      ],
      "execution_count": 0,
      "outputs": []
    },
    {
      "cell_type": "code",
      "metadata": {
        "id": "-Df5wiAAYgFz",
        "colab_type": "code",
        "colab": {}
      },
      "source": [
        "contractSize = 2000\n",
        "slippage = 19\n",
        "capital = 100000\n",
        "#List of Stop Percents\n",
        "pcts = [0.01,0.02]\n",
        "#List of Channel Lengths\n",
        "channelLength = [1000, 1500]\n",
        "# Enter in-sample in years\n",
        "insample = 4\n",
        "#Enter out-sample in months\n",
        "outsample = 3\n",
        "# insample = [1,3,5,7,9]\n",
        "# outsample = [1,4,7,10]\n",
        "# portfolio, insamp, outsamp = optimize(df, contractSize, slippage, capital, pcts, channelLength, insample, outsample)\n",
        "price, stop_pct_2, channel_Length_2, max_Return_2 = strategy(df, contractSize, slippage, capital, pcts, channelLength, insample, outsample)"
      ],
      "execution_count": 0,
      "outputs": []
    },
    {
      "cell_type": "code",
      "metadata": {
        "id": "YdfPZDpwYntu",
        "colab_type": "code",
        "colab": {}
      },
      "source": [
        "plt.style.use('seaborn')\n",
        "mpl.rcParams['font.family'] = 'serif'\n",
        "plt.title('performance Plot TU')\n",
        "plt.plot(price)"
      ],
      "execution_count": 0,
      "outputs": []
    },
    {
      "cell_type": "code",
      "metadata": {
        "id": "zXx76BQZYvct",
        "colab_type": "code",
        "colab": {}
      },
      "source": [
        "# average rate of return\n",
        "n = len(price)\n",
        "aror = (price[n-1] - price[0])/price[0]\n",
        "aror"
      ],
      "execution_count": 0,
      "outputs": []
    },
    {
      "cell_type": "code",
      "metadata": {
        "id": "uEu0ozv5Yxlb",
        "colab_type": "code",
        "colab": {}
      },
      "source": [
        "#sd of return\n",
        "sdor = np.std(price)\n",
        "sdor"
      ],
      "execution_count": 0,
      "outputs": []
    },
    {
      "cell_type": "code",
      "metadata": {
        "id": "e9JrNzUaYzgJ",
        "colab_type": "code",
        "colab": {}
      },
      "source": [
        "#sharpe\n",
        "sharpe = aror/sdor\n",
        "sharpe"
      ],
      "execution_count": 0,
      "outputs": []
    },
    {
      "cell_type": "code",
      "metadata": {
        "id": "xmxzEplqY1-9",
        "colab_type": "code",
        "colab": {}
      },
      "source": [
        "#total number of trades\n",
        "di = np.diff(price)\n",
        "numtrades = sum(i != 0 for i in di)\n",
        "numtrades"
      ],
      "execution_count": 0,
      "outputs": []
    },
    {
      "cell_type": "code",
      "metadata": {
        "id": "ATT03YROY33R",
        "colab_type": "code",
        "colab": {}
      },
      "source": [
        "# % of winners\n",
        "numwinners = sum(i > 0 for i in di)\n",
        "perc_winners = numwinners/numtrades\n",
        "perc_winners"
      ],
      "execution_count": 0,
      "outputs": []
    },
    {
      "cell_type": "code",
      "metadata": {
        "id": "iQ1fHiSUY6K3",
        "colab_type": "code",
        "colab": {}
      },
      "source": [
        "# average winner\n",
        "win = 0\n",
        "for i in di:\n",
        "    if i > 0:\n",
        "        win += i\n",
        "win/numwinners"
      ],
      "execution_count": 0,
      "outputs": []
    },
    {
      "cell_type": "code",
      "metadata": {
        "id": "yKfTbXZBY8Vm",
        "colab_type": "code",
        "colab": {}
      },
      "source": [
        "# average loser\n",
        "lose = 0\n",
        "for i in di:\n",
        "    if i < 0:\n",
        "        lose += abs(i)\n",
        "lose/(numtrades - numwinners)"
      ],
      "execution_count": 0,
      "outputs": []
    },
    {
      "cell_type": "code",
      "metadata": {
        "id": "n0_3akYKY-MA",
        "colab_type": "code",
        "colab": {}
      },
      "source": [
        "#profit factor\n",
        "win/lose"
      ],
      "execution_count": 0,
      "outputs": []
    }
  ]
}